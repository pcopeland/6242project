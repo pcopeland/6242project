{
 "cells": [
  {
   "cell_type": "code",
   "execution_count": 33,
   "metadata": {},
   "outputs": [],
   "source": [
    "import pandas as pd\n",
    "import seaborn as sns\n",
    "import matplotlib.pyplot as plt\n",
    "import pyarrow.parquet as pq\n",
    "from numba import jit"
   ]
  },
  {
   "cell_type": "code",
   "execution_count": 3,
   "metadata": {},
   "outputs": [
    {
     "name": "stderr",
     "output_type": "stream",
     "text": [
      "/Users/Copeland/opt/anaconda3/lib/python3.9/site-packages/distributed/node.py:179: UserWarning: Port 8787 is already in use.\n",
      "Perhaps you already have a cluster running?\n",
      "Hosting the HTTP server on port 57176 instead\n",
      "  warnings.warn(\n",
      "2024-03-20 15:56:27,199 - distributed.diskutils - INFO - Found stale lock file and directory '/var/folders/1j/227gtx89455_vcjz4mqv09ch0000gn/T/dask-worker-space/worker-pzxn60rr', purging\n",
      "2024-03-20 15:56:27,205 - distributed.diskutils - INFO - Found stale lock file and directory '/var/folders/1j/227gtx89455_vcjz4mqv09ch0000gn/T/dask-worker-space/worker-vwax0j59', purging\n",
      "2024-03-20 15:56:27,207 - distributed.diskutils - INFO - Found stale lock file and directory '/var/folders/1j/227gtx89455_vcjz4mqv09ch0000gn/T/dask-worker-space/worker-wv104onw', purging\n",
      "2024-03-20 15:56:27,208 - distributed.diskutils - INFO - Found stale lock file and directory '/var/folders/1j/227gtx89455_vcjz4mqv09ch0000gn/T/dask-worker-space/worker-0l7x54_5', purging\n"
     ]
    },
    {
     "data": {
      "text/html": [
       "<div>\n",
       "    <div style=\"width: 24px; height: 24px; background-color: #e1e1e1; border: 3px solid #9D9D9D; border-radius: 5px; position: absolute;\"> </div>\n",
       "    <div style=\"margin-left: 48px;\">\n",
       "        <h3 style=\"margin-bottom: 0px;\">Client</h3>\n",
       "        <p style=\"color: #9D9D9D; margin-bottom: 0px;\">Client-ed99f1d4-e6f3-11ee-b059-a860b62a7dff</p>\n",
       "        <table style=\"width: 100%; text-align: left;\">\n",
       "\n",
       "        <tr>\n",
       "        \n",
       "            <td style=\"text-align: left;\"><strong>Connection method:</strong> Cluster object</td>\n",
       "            <td style=\"text-align: left;\"><strong>Cluster type:</strong> distributed.LocalCluster</td>\n",
       "        \n",
       "        </tr>\n",
       "\n",
       "        \n",
       "            <tr>\n",
       "                <td style=\"text-align: left;\">\n",
       "                    <strong>Dashboard: </strong> <a href=\"http://127.0.0.1:57176/status\" target=\"_blank\">http://127.0.0.1:57176/status</a>\n",
       "                </td>\n",
       "                <td style=\"text-align: left;\"></td>\n",
       "            </tr>\n",
       "        \n",
       "\n",
       "        </table>\n",
       "\n",
       "        \n",
       "            <details>\n",
       "            <summary style=\"margin-bottom: 20px;\"><h3 style=\"display: inline;\">Cluster Info</h3></summary>\n",
       "            <div class=\"jp-RenderedHTMLCommon jp-RenderedHTML jp-mod-trusted jp-OutputArea-output\">\n",
       "    <div style=\"width: 24px; height: 24px; background-color: #e1e1e1; border: 3px solid #9D9D9D; border-radius: 5px; position: absolute;\">\n",
       "    </div>\n",
       "    <div style=\"margin-left: 48px;\">\n",
       "        <h3 style=\"margin-bottom: 0px; margin-top: 0px;\">LocalCluster</h3>\n",
       "        <p style=\"color: #9D9D9D; margin-bottom: 0px;\">16dcbae8</p>\n",
       "        <table style=\"width: 100%; text-align: left;\">\n",
       "            <tr>\n",
       "                <td style=\"text-align: left;\">\n",
       "                    <strong>Dashboard:</strong> <a href=\"http://127.0.0.1:57176/status\" target=\"_blank\">http://127.0.0.1:57176/status</a>\n",
       "                </td>\n",
       "                <td style=\"text-align: left;\">\n",
       "                    <strong>Workers:</strong> 4\n",
       "                </td>\n",
       "            </tr>\n",
       "            <tr>\n",
       "                <td style=\"text-align: left;\">\n",
       "                    <strong>Total threads:</strong> 4\n",
       "                </td>\n",
       "                <td style=\"text-align: left;\">\n",
       "                    <strong>Total memory:</strong> 32.00 GiB\n",
       "                </td>\n",
       "            </tr>\n",
       "            \n",
       "            <tr>\n",
       "    <td style=\"text-align: left;\"><strong>Status:</strong> running</td>\n",
       "    <td style=\"text-align: left;\"><strong>Using processes:</strong> True</td>\n",
       "</tr>\n",
       "\n",
       "            \n",
       "        </table>\n",
       "\n",
       "        <details>\n",
       "            <summary style=\"margin-bottom: 20px;\">\n",
       "                <h3 style=\"display: inline;\">Scheduler Info</h3>\n",
       "            </summary>\n",
       "\n",
       "            <div style=\"\">\n",
       "    <div>\n",
       "        <div style=\"width: 24px; height: 24px; background-color: #FFF7E5; border: 3px solid #FF6132; border-radius: 5px; position: absolute;\"> </div>\n",
       "        <div style=\"margin-left: 48px;\">\n",
       "            <h3 style=\"margin-bottom: 0px;\">Scheduler</h3>\n",
       "            <p style=\"color: #9D9D9D; margin-bottom: 0px;\">Scheduler-827e2312-fadc-4f62-9e1e-06dfcb4cdc58</p>\n",
       "            <table style=\"width: 100%; text-align: left;\">\n",
       "                <tr>\n",
       "                    <td style=\"text-align: left;\">\n",
       "                        <strong>Comm:</strong> tcp://127.0.0.1:57177\n",
       "                    </td>\n",
       "                    <td style=\"text-align: left;\">\n",
       "                        <strong>Workers:</strong> 4\n",
       "                    </td>\n",
       "                </tr>\n",
       "                <tr>\n",
       "                    <td style=\"text-align: left;\">\n",
       "                        <strong>Dashboard:</strong> <a href=\"http://127.0.0.1:57176/status\" target=\"_blank\">http://127.0.0.1:57176/status</a>\n",
       "                    </td>\n",
       "                    <td style=\"text-align: left;\">\n",
       "                        <strong>Total threads:</strong> 4\n",
       "                    </td>\n",
       "                </tr>\n",
       "                <tr>\n",
       "                    <td style=\"text-align: left;\">\n",
       "                        <strong>Started:</strong> Just now\n",
       "                    </td>\n",
       "                    <td style=\"text-align: left;\">\n",
       "                        <strong>Total memory:</strong> 32.00 GiB\n",
       "                    </td>\n",
       "                </tr>\n",
       "            </table>\n",
       "        </div>\n",
       "    </div>\n",
       "\n",
       "    <details style=\"margin-left: 48px;\">\n",
       "        <summary style=\"margin-bottom: 20px;\">\n",
       "            <h3 style=\"display: inline;\">Workers</h3>\n",
       "        </summary>\n",
       "\n",
       "        \n",
       "        <div style=\"margin-bottom: 20px;\">\n",
       "            <div style=\"width: 24px; height: 24px; background-color: #DBF5FF; border: 3px solid #4CC9FF; border-radius: 5px; position: absolute;\"> </div>\n",
       "            <div style=\"margin-left: 48px;\">\n",
       "            <details>\n",
       "                <summary>\n",
       "                    <h4 style=\"margin-bottom: 0px; display: inline;\">Worker: 0</h4>\n",
       "                </summary>\n",
       "                <table style=\"width: 100%; text-align: left;\">\n",
       "                    <tr>\n",
       "                        <td style=\"text-align: left;\">\n",
       "                            <strong>Comm: </strong> tcp://127.0.0.1:57194\n",
       "                        </td>\n",
       "                        <td style=\"text-align: left;\">\n",
       "                            <strong>Total threads: </strong> 1\n",
       "                        </td>\n",
       "                    </tr>\n",
       "                    <tr>\n",
       "                        <td style=\"text-align: left;\">\n",
       "                            <strong>Dashboard: </strong> <a href=\"http://127.0.0.1:57196/status\" target=\"_blank\">http://127.0.0.1:57196/status</a>\n",
       "                        </td>\n",
       "                        <td style=\"text-align: left;\">\n",
       "                            <strong>Memory: </strong> 8.00 GiB\n",
       "                        </td>\n",
       "                    </tr>\n",
       "                    <tr>\n",
       "                        <td style=\"text-align: left;\">\n",
       "                            <strong>Nanny: </strong> tcp://127.0.0.1:57181\n",
       "                        </td>\n",
       "                        <td style=\"text-align: left;\"></td>\n",
       "                    </tr>\n",
       "                    <tr>\n",
       "                        <td colspan=\"2\" style=\"text-align: left;\">\n",
       "                            <strong>Local directory: </strong> /var/folders/1j/227gtx89455_vcjz4mqv09ch0000gn/T/dask-worker-space/worker-cm8n6mvq\n",
       "                        </td>\n",
       "                    </tr>\n",
       "\n",
       "                    \n",
       "\n",
       "                    \n",
       "\n",
       "                </table>\n",
       "            </details>\n",
       "            </div>\n",
       "        </div>\n",
       "        \n",
       "        <div style=\"margin-bottom: 20px;\">\n",
       "            <div style=\"width: 24px; height: 24px; background-color: #DBF5FF; border: 3px solid #4CC9FF; border-radius: 5px; position: absolute;\"> </div>\n",
       "            <div style=\"margin-left: 48px;\">\n",
       "            <details>\n",
       "                <summary>\n",
       "                    <h4 style=\"margin-bottom: 0px; display: inline;\">Worker: 1</h4>\n",
       "                </summary>\n",
       "                <table style=\"width: 100%; text-align: left;\">\n",
       "                    <tr>\n",
       "                        <td style=\"text-align: left;\">\n",
       "                            <strong>Comm: </strong> tcp://127.0.0.1:57192\n",
       "                        </td>\n",
       "                        <td style=\"text-align: left;\">\n",
       "                            <strong>Total threads: </strong> 1\n",
       "                        </td>\n",
       "                    </tr>\n",
       "                    <tr>\n",
       "                        <td style=\"text-align: left;\">\n",
       "                            <strong>Dashboard: </strong> <a href=\"http://127.0.0.1:57197/status\" target=\"_blank\">http://127.0.0.1:57197/status</a>\n",
       "                        </td>\n",
       "                        <td style=\"text-align: left;\">\n",
       "                            <strong>Memory: </strong> 8.00 GiB\n",
       "                        </td>\n",
       "                    </tr>\n",
       "                    <tr>\n",
       "                        <td style=\"text-align: left;\">\n",
       "                            <strong>Nanny: </strong> tcp://127.0.0.1:57183\n",
       "                        </td>\n",
       "                        <td style=\"text-align: left;\"></td>\n",
       "                    </tr>\n",
       "                    <tr>\n",
       "                        <td colspan=\"2\" style=\"text-align: left;\">\n",
       "                            <strong>Local directory: </strong> /var/folders/1j/227gtx89455_vcjz4mqv09ch0000gn/T/dask-worker-space/worker-xam_vuve\n",
       "                        </td>\n",
       "                    </tr>\n",
       "\n",
       "                    \n",
       "\n",
       "                    \n",
       "\n",
       "                </table>\n",
       "            </details>\n",
       "            </div>\n",
       "        </div>\n",
       "        \n",
       "        <div style=\"margin-bottom: 20px;\">\n",
       "            <div style=\"width: 24px; height: 24px; background-color: #DBF5FF; border: 3px solid #4CC9FF; border-radius: 5px; position: absolute;\"> </div>\n",
       "            <div style=\"margin-left: 48px;\">\n",
       "            <details>\n",
       "                <summary>\n",
       "                    <h4 style=\"margin-bottom: 0px; display: inline;\">Worker: 2</h4>\n",
       "                </summary>\n",
       "                <table style=\"width: 100%; text-align: left;\">\n",
       "                    <tr>\n",
       "                        <td style=\"text-align: left;\">\n",
       "                            <strong>Comm: </strong> tcp://127.0.0.1:57193\n",
       "                        </td>\n",
       "                        <td style=\"text-align: left;\">\n",
       "                            <strong>Total threads: </strong> 1\n",
       "                        </td>\n",
       "                    </tr>\n",
       "                    <tr>\n",
       "                        <td style=\"text-align: left;\">\n",
       "                            <strong>Dashboard: </strong> <a href=\"http://127.0.0.1:57195/status\" target=\"_blank\">http://127.0.0.1:57195/status</a>\n",
       "                        </td>\n",
       "                        <td style=\"text-align: left;\">\n",
       "                            <strong>Memory: </strong> 8.00 GiB\n",
       "                        </td>\n",
       "                    </tr>\n",
       "                    <tr>\n",
       "                        <td style=\"text-align: left;\">\n",
       "                            <strong>Nanny: </strong> tcp://127.0.0.1:57180\n",
       "                        </td>\n",
       "                        <td style=\"text-align: left;\"></td>\n",
       "                    </tr>\n",
       "                    <tr>\n",
       "                        <td colspan=\"2\" style=\"text-align: left;\">\n",
       "                            <strong>Local directory: </strong> /var/folders/1j/227gtx89455_vcjz4mqv09ch0000gn/T/dask-worker-space/worker-hx22pkcj\n",
       "                        </td>\n",
       "                    </tr>\n",
       "\n",
       "                    \n",
       "\n",
       "                    \n",
       "\n",
       "                </table>\n",
       "            </details>\n",
       "            </div>\n",
       "        </div>\n",
       "        \n",
       "        <div style=\"margin-bottom: 20px;\">\n",
       "            <div style=\"width: 24px; height: 24px; background-color: #DBF5FF; border: 3px solid #4CC9FF; border-radius: 5px; position: absolute;\"> </div>\n",
       "            <div style=\"margin-left: 48px;\">\n",
       "            <details>\n",
       "                <summary>\n",
       "                    <h4 style=\"margin-bottom: 0px; display: inline;\">Worker: 3</h4>\n",
       "                </summary>\n",
       "                <table style=\"width: 100%; text-align: left;\">\n",
       "                    <tr>\n",
       "                        <td style=\"text-align: left;\">\n",
       "                            <strong>Comm: </strong> tcp://127.0.0.1:57201\n",
       "                        </td>\n",
       "                        <td style=\"text-align: left;\">\n",
       "                            <strong>Total threads: </strong> 1\n",
       "                        </td>\n",
       "                    </tr>\n",
       "                    <tr>\n",
       "                        <td style=\"text-align: left;\">\n",
       "                            <strong>Dashboard: </strong> <a href=\"http://127.0.0.1:57202/status\" target=\"_blank\">http://127.0.0.1:57202/status</a>\n",
       "                        </td>\n",
       "                        <td style=\"text-align: left;\">\n",
       "                            <strong>Memory: </strong> 8.00 GiB\n",
       "                        </td>\n",
       "                    </tr>\n",
       "                    <tr>\n",
       "                        <td style=\"text-align: left;\">\n",
       "                            <strong>Nanny: </strong> tcp://127.0.0.1:57182\n",
       "                        </td>\n",
       "                        <td style=\"text-align: left;\"></td>\n",
       "                    </tr>\n",
       "                    <tr>\n",
       "                        <td colspan=\"2\" style=\"text-align: left;\">\n",
       "                            <strong>Local directory: </strong> /var/folders/1j/227gtx89455_vcjz4mqv09ch0000gn/T/dask-worker-space/worker-ho_mdtlm\n",
       "                        </td>\n",
       "                    </tr>\n",
       "\n",
       "                    \n",
       "\n",
       "                    \n",
       "\n",
       "                </table>\n",
       "            </details>\n",
       "            </div>\n",
       "        </div>\n",
       "        \n",
       "\n",
       "    </details>\n",
       "</div>\n",
       "\n",
       "        </details>\n",
       "    </div>\n",
       "</div>\n",
       "            </details>\n",
       "        \n",
       "\n",
       "    </div>\n",
       "</div>"
      ],
      "text/plain": [
       "<Client: 'tcp://127.0.0.1:57177' processes=4 threads=4, memory=32.00 GiB>"
      ]
     },
     "execution_count": 3,
     "metadata": {},
     "output_type": "execute_result"
    }
   ],
   "source": [
    "import dask.dataframe as dd\n",
    "from dask.distributed import Client\n",
    "\n",
    "client = Client()\n",
    "client"
   ]
  },
  {
   "cell_type": "markdown",
   "metadata": {},
   "source": [
    "### Read in the and data drop irrelevant features"
   ]
  },
  {
   "cell_type": "code",
   "execution_count": 4,
   "metadata": {
    "scrolled": false
   },
   "outputs": [
    {
     "name": "stderr",
     "output_type": "stream",
     "text": [
      "/var/folders/1j/227gtx89455_vcjz4mqv09ch0000gn/T/ipykernel_61529/418031929.py:1: DtypeWarning: Columns (28) have mixed types. Specify dtype option on import or set low_memory=False.\n",
      "  dft = pd.read_csv('us_congestion_2016_2022.csv')\n"
     ]
    }
   ],
   "source": [
    "dft = pd.read_csv('us_congestion_2016_2022.csv')"
   ]
  },
  {
   "cell_type": "code",
   "execution_count": 5,
   "metadata": {},
   "outputs": [],
   "source": [
    "dfw = pd.read_csv('WeatherEvents_Jan2016-Dec2022.csv')"
   ]
  },
  {
   "cell_type": "code",
   "execution_count": 6,
   "metadata": {},
   "outputs": [],
   "source": [
    "# dft.to_parquet('us_congestion_2016_2022')\n",
    "# dfw.to_parquet('WeatherEvents_Jan2016-Dec2022')\n",
    "# df = dd.read_parquet('path/to/my-results/')"
   ]
  },
  {
   "cell_type": "code",
   "execution_count": 7,
   "metadata": {},
   "outputs": [],
   "source": [
    "dft = dft.drop(['ID', 'Description'], axis=1)\n",
    "dfw = dfw.drop(['EventId', 'AirportCode'], axis=1)"
   ]
  },
  {
   "cell_type": "markdown",
   "metadata": {},
   "source": [
    "### 'Severity' column is numerical but still categorical, change it to a string type"
   ]
  },
  {
   "cell_type": "code",
   "execution_count": 8,
   "metadata": {},
   "outputs": [],
   "source": [
    "dft['Severity'] = dft['Severity'].astype('string')"
   ]
  },
  {
   "cell_type": "code",
   "execution_count": 9,
   "metadata": {},
   "outputs": [
    {
     "data": {
      "text/html": [
       "<div>\n",
       "<style scoped>\n",
       "    .dataframe tbody tr th:only-of-type {\n",
       "        vertical-align: middle;\n",
       "    }\n",
       "\n",
       "    .dataframe tbody tr th {\n",
       "        vertical-align: top;\n",
       "    }\n",
       "\n",
       "    .dataframe thead th {\n",
       "        text-align: right;\n",
       "    }\n",
       "</style>\n",
       "<table border=\"1\" class=\"dataframe\">\n",
       "  <thead>\n",
       "    <tr style=\"text-align: right;\">\n",
       "      <th></th>\n",
       "      <th>Severity</th>\n",
       "      <th>Start_Lat</th>\n",
       "      <th>Start_Lng</th>\n",
       "      <th>StartTime</th>\n",
       "      <th>EndTime</th>\n",
       "      <th>Distance(mi)</th>\n",
       "      <th>DelayFromTypicalTraffic(mins)</th>\n",
       "      <th>DelayFromFreeFlowSpeed(mins)</th>\n",
       "      <th>Congestion_Speed</th>\n",
       "      <th>Street</th>\n",
       "      <th>...</th>\n",
       "      <th>Temperature(F)</th>\n",
       "      <th>WindChill(F)</th>\n",
       "      <th>Humidity(%)</th>\n",
       "      <th>Pressure(in)</th>\n",
       "      <th>Visibility(mi)</th>\n",
       "      <th>WindDir</th>\n",
       "      <th>WindSpeed(mph)</th>\n",
       "      <th>Precipitation(in)</th>\n",
       "      <th>Weather_Event</th>\n",
       "      <th>Weather_Conditions</th>\n",
       "    </tr>\n",
       "  </thead>\n",
       "  <tbody>\n",
       "    <tr>\n",
       "      <th>0</th>\n",
       "      <td>0</td>\n",
       "      <td>42.410881</td>\n",
       "      <td>-71.147995</td>\n",
       "      <td>2020-11-10T17:54:00.000-05:00</td>\n",
       "      <td>2020-11-10T19:29:27.000-05:00</td>\n",
       "      <td>3.99</td>\n",
       "      <td>0.0</td>\n",
       "      <td>4.0</td>\n",
       "      <td>Moderate</td>\n",
       "      <td>Wyman Ter</td>\n",
       "      <td>...</td>\n",
       "      <td>64.0</td>\n",
       "      <td>64.0</td>\n",
       "      <td>63.0</td>\n",
       "      <td>29.93</td>\n",
       "      <td>10.0</td>\n",
       "      <td>SSW</td>\n",
       "      <td>7.0</td>\n",
       "      <td>0.0</td>\n",
       "      <td>NaN</td>\n",
       "      <td>Fair</td>\n",
       "    </tr>\n",
       "    <tr>\n",
       "      <th>1</th>\n",
       "      <td>0</td>\n",
       "      <td>42.512131</td>\n",
       "      <td>-71.027992</td>\n",
       "      <td>2020-11-10T17:53:00.000-05:00</td>\n",
       "      <td>2020-11-10T18:33:43.000-05:00</td>\n",
       "      <td>0.75</td>\n",
       "      <td>1.0</td>\n",
       "      <td>1.0</td>\n",
       "      <td>Moderate</td>\n",
       "      <td>Walnut St</td>\n",
       "      <td>...</td>\n",
       "      <td>66.0</td>\n",
       "      <td>66.0</td>\n",
       "      <td>54.0</td>\n",
       "      <td>29.95</td>\n",
       "      <td>10.0</td>\n",
       "      <td>S</td>\n",
       "      <td>3.0</td>\n",
       "      <td>0.0</td>\n",
       "      <td>NaN</td>\n",
       "      <td>Fair</td>\n",
       "    </tr>\n",
       "    <tr>\n",
       "      <th>2</th>\n",
       "      <td>1</td>\n",
       "      <td>42.272388</td>\n",
       "      <td>-71.068001</td>\n",
       "      <td>2020-11-10T17:49:00.000-05:00</td>\n",
       "      <td>2020-11-10T18:39:39.000-05:00</td>\n",
       "      <td>4.28</td>\n",
       "      <td>0.0</td>\n",
       "      <td>7.0</td>\n",
       "      <td>Slow</td>\n",
       "      <td>Dorchester Ave</td>\n",
       "      <td>...</td>\n",
       "      <td>65.0</td>\n",
       "      <td>65.0</td>\n",
       "      <td>70.0</td>\n",
       "      <td>30.05</td>\n",
       "      <td>10.0</td>\n",
       "      <td>S</td>\n",
       "      <td>7.0</td>\n",
       "      <td>0.0</td>\n",
       "      <td>NaN</td>\n",
       "      <td>Fair</td>\n",
       "    </tr>\n",
       "    <tr>\n",
       "      <th>3</th>\n",
       "      <td>0</td>\n",
       "      <td>42.356911</td>\n",
       "      <td>-71.066254</td>\n",
       "      <td>2020-11-10T17:58:00.000-05:00</td>\n",
       "      <td>2020-11-10T18:39:39.000-05:00</td>\n",
       "      <td>0.38</td>\n",
       "      <td>0.0</td>\n",
       "      <td>2.0</td>\n",
       "      <td>Slow</td>\n",
       "      <td>Beacon St</td>\n",
       "      <td>...</td>\n",
       "      <td>63.0</td>\n",
       "      <td>63.0</td>\n",
       "      <td>70.0</td>\n",
       "      <td>30.07</td>\n",
       "      <td>10.0</td>\n",
       "      <td>SSW</td>\n",
       "      <td>10.0</td>\n",
       "      <td>0.0</td>\n",
       "      <td>NaN</td>\n",
       "      <td>Mostly Cloudy</td>\n",
       "    </tr>\n",
       "    <tr>\n",
       "      <th>4</th>\n",
       "      <td>1</td>\n",
       "      <td>42.377628</td>\n",
       "      <td>-71.120079</td>\n",
       "      <td>2020-11-10T17:46:00.000-05:00</td>\n",
       "      <td>2020-11-10T18:39:39.000-05:00</td>\n",
       "      <td>3.55</td>\n",
       "      <td>0.0</td>\n",
       "      <td>5.0</td>\n",
       "      <td>Moderate</td>\n",
       "      <td>Massachusetts Ave</td>\n",
       "      <td>...</td>\n",
       "      <td>63.0</td>\n",
       "      <td>63.0</td>\n",
       "      <td>70.0</td>\n",
       "      <td>30.07</td>\n",
       "      <td>10.0</td>\n",
       "      <td>SSW</td>\n",
       "      <td>10.0</td>\n",
       "      <td>0.0</td>\n",
       "      <td>NaN</td>\n",
       "      <td>Mostly Cloudy</td>\n",
       "    </tr>\n",
       "  </tbody>\n",
       "</table>\n",
       "<p>5 rows × 28 columns</p>\n",
       "</div>"
      ],
      "text/plain": [
       "  Severity  Start_Lat  Start_Lng                      StartTime  \\\n",
       "0        0  42.410881 -71.147995  2020-11-10T17:54:00.000-05:00   \n",
       "1        0  42.512131 -71.027992  2020-11-10T17:53:00.000-05:00   \n",
       "2        1  42.272388 -71.068001  2020-11-10T17:49:00.000-05:00   \n",
       "3        0  42.356911 -71.066254  2020-11-10T17:58:00.000-05:00   \n",
       "4        1  42.377628 -71.120079  2020-11-10T17:46:00.000-05:00   \n",
       "\n",
       "                         EndTime  Distance(mi)  DelayFromTypicalTraffic(mins)  \\\n",
       "0  2020-11-10T19:29:27.000-05:00          3.99                            0.0   \n",
       "1  2020-11-10T18:33:43.000-05:00          0.75                            1.0   \n",
       "2  2020-11-10T18:39:39.000-05:00          4.28                            0.0   \n",
       "3  2020-11-10T18:39:39.000-05:00          0.38                            0.0   \n",
       "4  2020-11-10T18:39:39.000-05:00          3.55                            0.0   \n",
       "\n",
       "   DelayFromFreeFlowSpeed(mins) Congestion_Speed             Street  ...  \\\n",
       "0                           4.0         Moderate          Wyman Ter  ...   \n",
       "1                           1.0         Moderate          Walnut St  ...   \n",
       "2                           7.0             Slow     Dorchester Ave  ...   \n",
       "3                           2.0             Slow          Beacon St  ...   \n",
       "4                           5.0         Moderate  Massachusetts Ave  ...   \n",
       "\n",
       "  Temperature(F) WindChill(F) Humidity(%) Pressure(in) Visibility(mi) WindDir  \\\n",
       "0           64.0         64.0        63.0        29.93           10.0     SSW   \n",
       "1           66.0         66.0        54.0        29.95           10.0       S   \n",
       "2           65.0         65.0        70.0        30.05           10.0       S   \n",
       "3           63.0         63.0        70.0        30.07           10.0     SSW   \n",
       "4           63.0         63.0        70.0        30.07           10.0     SSW   \n",
       "\n",
       "  WindSpeed(mph) Precipitation(in)  Weather_Event  Weather_Conditions  \n",
       "0            7.0               0.0            NaN                Fair  \n",
       "1            3.0               0.0            NaN                Fair  \n",
       "2            7.0               0.0            NaN                Fair  \n",
       "3           10.0               0.0            NaN       Mostly Cloudy  \n",
       "4           10.0               0.0            NaN       Mostly Cloudy  \n",
       "\n",
       "[5 rows x 28 columns]"
      ]
     },
     "execution_count": 9,
     "metadata": {},
     "output_type": "execute_result"
    }
   ],
   "source": [
    "dft.head()"
   ]
  },
  {
   "cell_type": "code",
   "execution_count": 10,
   "metadata": {},
   "outputs": [
    {
     "data": {
      "text/html": [
       "<div>\n",
       "<style scoped>\n",
       "    .dataframe tbody tr th:only-of-type {\n",
       "        vertical-align: middle;\n",
       "    }\n",
       "\n",
       "    .dataframe tbody tr th {\n",
       "        vertical-align: top;\n",
       "    }\n",
       "\n",
       "    .dataframe thead th {\n",
       "        text-align: right;\n",
       "    }\n",
       "</style>\n",
       "<table border=\"1\" class=\"dataframe\">\n",
       "  <thead>\n",
       "    <tr style=\"text-align: right;\">\n",
       "      <th></th>\n",
       "      <th>Type</th>\n",
       "      <th>Severity</th>\n",
       "      <th>StartTime(UTC)</th>\n",
       "      <th>EndTime(UTC)</th>\n",
       "      <th>Precipitation(in)</th>\n",
       "      <th>TimeZone</th>\n",
       "      <th>LocationLat</th>\n",
       "      <th>LocationLng</th>\n",
       "      <th>City</th>\n",
       "      <th>County</th>\n",
       "      <th>State</th>\n",
       "      <th>ZipCode</th>\n",
       "    </tr>\n",
       "  </thead>\n",
       "  <tbody>\n",
       "    <tr>\n",
       "      <th>0</th>\n",
       "      <td>Snow</td>\n",
       "      <td>Light</td>\n",
       "      <td>2016-01-06 23:14:00</td>\n",
       "      <td>2016-01-07 00:34:00</td>\n",
       "      <td>0.00</td>\n",
       "      <td>US/Mountain</td>\n",
       "      <td>38.0972</td>\n",
       "      <td>-106.1689</td>\n",
       "      <td>Saguache</td>\n",
       "      <td>Saguache</td>\n",
       "      <td>CO</td>\n",
       "      <td>81149.0</td>\n",
       "    </tr>\n",
       "    <tr>\n",
       "      <th>1</th>\n",
       "      <td>Snow</td>\n",
       "      <td>Light</td>\n",
       "      <td>2016-01-07 04:14:00</td>\n",
       "      <td>2016-01-07 04:54:00</td>\n",
       "      <td>0.00</td>\n",
       "      <td>US/Mountain</td>\n",
       "      <td>38.0972</td>\n",
       "      <td>-106.1689</td>\n",
       "      <td>Saguache</td>\n",
       "      <td>Saguache</td>\n",
       "      <td>CO</td>\n",
       "      <td>81149.0</td>\n",
       "    </tr>\n",
       "    <tr>\n",
       "      <th>2</th>\n",
       "      <td>Snow</td>\n",
       "      <td>Light</td>\n",
       "      <td>2016-01-07 05:54:00</td>\n",
       "      <td>2016-01-07 15:34:00</td>\n",
       "      <td>0.03</td>\n",
       "      <td>US/Mountain</td>\n",
       "      <td>38.0972</td>\n",
       "      <td>-106.1689</td>\n",
       "      <td>Saguache</td>\n",
       "      <td>Saguache</td>\n",
       "      <td>CO</td>\n",
       "      <td>81149.0</td>\n",
       "    </tr>\n",
       "    <tr>\n",
       "      <th>3</th>\n",
       "      <td>Snow</td>\n",
       "      <td>Light</td>\n",
       "      <td>2016-01-08 05:34:00</td>\n",
       "      <td>2016-01-08 05:54:00</td>\n",
       "      <td>0.00</td>\n",
       "      <td>US/Mountain</td>\n",
       "      <td>38.0972</td>\n",
       "      <td>-106.1689</td>\n",
       "      <td>Saguache</td>\n",
       "      <td>Saguache</td>\n",
       "      <td>CO</td>\n",
       "      <td>81149.0</td>\n",
       "    </tr>\n",
       "    <tr>\n",
       "      <th>4</th>\n",
       "      <td>Snow</td>\n",
       "      <td>Light</td>\n",
       "      <td>2016-01-08 13:54:00</td>\n",
       "      <td>2016-01-08 15:54:00</td>\n",
       "      <td>0.00</td>\n",
       "      <td>US/Mountain</td>\n",
       "      <td>38.0972</td>\n",
       "      <td>-106.1689</td>\n",
       "      <td>Saguache</td>\n",
       "      <td>Saguache</td>\n",
       "      <td>CO</td>\n",
       "      <td>81149.0</td>\n",
       "    </tr>\n",
       "  </tbody>\n",
       "</table>\n",
       "</div>"
      ],
      "text/plain": [
       "   Type Severity       StartTime(UTC)         EndTime(UTC)  Precipitation(in)  \\\n",
       "0  Snow    Light  2016-01-06 23:14:00  2016-01-07 00:34:00               0.00   \n",
       "1  Snow    Light  2016-01-07 04:14:00  2016-01-07 04:54:00               0.00   \n",
       "2  Snow    Light  2016-01-07 05:54:00  2016-01-07 15:34:00               0.03   \n",
       "3  Snow    Light  2016-01-08 05:34:00  2016-01-08 05:54:00               0.00   \n",
       "4  Snow    Light  2016-01-08 13:54:00  2016-01-08 15:54:00               0.00   \n",
       "\n",
       "      TimeZone  LocationLat  LocationLng      City    County State  ZipCode  \n",
       "0  US/Mountain      38.0972    -106.1689  Saguache  Saguache    CO  81149.0  \n",
       "1  US/Mountain      38.0972    -106.1689  Saguache  Saguache    CO  81149.0  \n",
       "2  US/Mountain      38.0972    -106.1689  Saguache  Saguache    CO  81149.0  \n",
       "3  US/Mountain      38.0972    -106.1689  Saguache  Saguache    CO  81149.0  \n",
       "4  US/Mountain      38.0972    -106.1689  Saguache  Saguache    CO  81149.0  "
      ]
     },
     "execution_count": 10,
     "metadata": {},
     "output_type": "execute_result"
    }
   ],
   "source": [
    "dfw.head()"
   ]
  },
  {
   "cell_type": "markdown",
   "metadata": {},
   "source": [
    "### Take a look at the different data types"
   ]
  },
  {
   "cell_type": "code",
   "execution_count": 11,
   "metadata": {
    "scrolled": false
   },
   "outputs": [],
   "source": [
    "dft_num = dft.select_dtypes(include='number')\n",
    "dfw_num = dfw.select_dtypes(include='number')"
   ]
  },
  {
   "cell_type": "code",
   "execution_count": 33,
   "metadata": {},
   "outputs": [],
   "source": [
    "def get_discriptions(df):\n",
    "    for column in df:\n",
    "        print(df[column].describe())\n",
    "        print()\n",
    "        \n",
    "    return"
   ]
  },
  {
   "cell_type": "code",
   "execution_count": 34,
   "metadata": {
    "scrolled": false
   },
   "outputs": [
    {
     "name": "stdout",
     "output_type": "stream",
     "text": [
      "count    3.330420e+07\n",
      "mean     3.717374e+01\n",
      "std      5.171325e+00\n",
      "min      2.454662e+01\n",
      "25%      3.377818e+01\n",
      "50%      3.846994e+01\n",
      "75%      4.084970e+01\n",
      "max      4.900249e+01\n",
      "Name: Start_Lat, dtype: float64\n",
      "\n",
      "count    3.330420e+07\n",
      "mean    -9.235009e+01\n",
      "std      1.711851e+01\n",
      "min     -1.245524e+02\n",
      "25%     -1.063377e+02\n",
      "50%     -8.686362e+01\n",
      "75%     -7.742982e+01\n",
      "max     -6.701227e+01\n",
      "Name: Start_Lng, dtype: float64\n",
      "\n",
      "count    3.330420e+07\n",
      "mean     2.989116e+00\n",
      "std      2.880462e+00\n",
      "min      0.000000e+00\n",
      "25%      1.260000e+00\n",
      "50%      2.320000e+00\n",
      "75%      3.780000e+00\n",
      "max      2.121200e+02\n",
      "Name: Distance(mi), dtype: float64\n",
      "\n",
      "count    3.330420e+07\n",
      "mean     2.816910e+00\n",
      "std      4.070466e+00\n",
      "min      0.000000e+00\n",
      "25%      5.500000e-01\n",
      "50%      1.920000e+00\n",
      "75%      3.950000e+00\n",
      "max      3.660000e+02\n",
      "Name: DelayFromTypicalTraffic(mins), dtype: float64\n",
      "\n",
      "count    3.330420e+07\n",
      "mean     4.020801e+00\n",
      "std      4.585300e+00\n",
      "min      0.000000e+00\n",
      "25%      1.800000e+00\n",
      "50%      3.000000e+00\n",
      "75%      5.000000e+00\n",
      "max      3.931500e+02\n",
      "Name: DelayFromFreeFlowSpeed(mins), dtype: float64\n",
      "\n",
      "count    3.257438e+07\n",
      "mean     6.009029e+01\n",
      "std      2.071933e+01\n",
      "min     -1.460000e+02\n",
      "25%      4.600000e+01\n",
      "50%      6.400000e+01\n",
      "75%      7.600000e+01\n",
      "max      2.010000e+02\n",
      "Name: Temperature(F), dtype: float64\n",
      "\n",
      "count    2.064903e+07\n",
      "mean     5.251154e+01\n",
      "std      2.594333e+01\n",
      "min     -1.460000e+02\n",
      "25%      3.050000e+01\n",
      "50%      5.800000e+01\n",
      "75%      7.400000e+01\n",
      "max      2.010000e+02\n",
      "Name: WindChill(F), dtype: float64\n",
      "\n",
      "count    3.253801e+07\n",
      "mean     6.311360e+01\n",
      "std      2.265511e+01\n",
      "min      0.000000e+00\n",
      "25%      4.600000e+01\n",
      "50%      6.400000e+01\n",
      "75%      8.300000e+01\n",
      "max      1.000000e+02\n",
      "Name: Humidity(%), dtype: float64\n",
      "\n",
      "count    3.262155e+07\n",
      "mean     2.959417e+01\n",
      "std      1.127580e+00\n",
      "min      0.000000e+00\n",
      "25%      2.956000e+01\n",
      "50%      2.991000e+01\n",
      "75%      3.007000e+01\n",
      "max      5.863000e+01\n",
      "Name: Pressure(in), dtype: float64\n",
      "\n",
      "count    3.233092e+07\n",
      "mean     8.967760e+00\n",
      "std      6.967025e+02\n",
      "min      0.000000e+00\n",
      "25%      1.000000e+01\n",
      "50%      1.000000e+01\n",
      "75%      1.000000e+01\n",
      "max      2.800610e+06\n",
      "Name: Visibility(mi), dtype: float64\n",
      "\n",
      "count    3.014474e+07\n",
      "mean     8.956969e+00\n",
      "std      5.665076e+00\n",
      "min      0.000000e+00\n",
      "25%      5.000000e+00\n",
      "50%      8.100000e+00\n",
      "75%      1.200000e+01\n",
      "max      1.099000e+03\n",
      "Name: WindSpeed(mph), dtype: float64\n",
      "\n",
      "count    1.955080e+07\n",
      "mean     1.813435e-02\n",
      "std      3.001126e-01\n",
      "min      0.000000e+00\n",
      "25%      0.000000e+00\n",
      "50%      0.000000e+00\n",
      "75%      0.000000e+00\n",
      "max      2.500000e+01\n",
      "Name: Precipitation(in), dtype: float64\n",
      "\n"
     ]
    }
   ],
   "source": [
    "get_discriptions(dft_num)"
   ]
  },
  {
   "cell_type": "code",
   "execution_count": 35,
   "metadata": {},
   "outputs": [
    {
     "name": "stdout",
     "output_type": "stream",
     "text": [
      "count    8.627181e+06\n",
      "mean     9.287441e-02\n",
      "std      8.870326e-01\n",
      "min      0.000000e+00\n",
      "25%      0.000000e+00\n",
      "50%      0.000000e+00\n",
      "75%      5.000000e-02\n",
      "max      1.104130e+03\n",
      "Name: Precipitation(in), dtype: float64\n",
      "\n",
      "count    8.627181e+06\n",
      "mean     3.878602e+01\n",
      "std      5.467708e+00\n",
      "min      2.455710e+01\n",
      "25%      3.459950e+01\n",
      "50%      3.934510e+01\n",
      "75%      4.306220e+01\n",
      "max      4.894020e+01\n",
      "Name: LocationLat, dtype: float64\n",
      "\n",
      "count    8.627181e+06\n",
      "mean    -9.191172e+01\n",
      "std      1.350340e+01\n",
      "min     -1.245550e+02\n",
      "25%     -9.782360e+01\n",
      "50%     -8.977340e+01\n",
      "75%     -8.194720e+01\n",
      "max     -6.779280e+01\n",
      "Name: LocationLng, dtype: float64\n",
      "\n",
      "count    8.557982e+06\n",
      "mean     5.241150e+04\n",
      "std      2.573249e+04\n",
      "min      1.022000e+03\n",
      "25%      3.121600e+04\n",
      "50%      5.391300e+04\n",
      "75%      7.350300e+04\n",
      "max      9.936200e+04\n",
      "Name: ZipCode, dtype: float64\n",
      "\n"
     ]
    }
   ],
   "source": [
    "get_discriptions(dfw_num)"
   ]
  },
  {
   "cell_type": "code",
   "execution_count": 12,
   "metadata": {},
   "outputs": [],
   "source": [
    "dft_cat = dft.select_dtypes(exclude='number')\n",
    "dfw_cat = dfw.select_dtypes(exclude='number')"
   ]
  },
  {
   "cell_type": "code",
   "execution_count": 37,
   "metadata": {},
   "outputs": [],
   "source": [
    "def get_nunique(df):\n",
    "    for column in df.columns:\n",
    "        print(f'Unique values in column \"{column}\": {df[column].nunique()}')\n",
    "        \n",
    "    return"
   ]
  },
  {
   "cell_type": "code",
   "execution_count": 38,
   "metadata": {},
   "outputs": [
    {
     "name": "stdout",
     "output_type": "stream",
     "text": [
      "Unique values in column \"Severity\": 5\n",
      "Unique values in column \"StartTime\": 2913336\n",
      "Unique values in column \"EndTime\": 13790299\n",
      "Unique values in column \"Congestion_Speed\": 3\n",
      "Unique values in column \"Street\": 234753\n",
      "Unique values in column \"City\": 16776\n",
      "Unique values in column \"County\": 1973\n",
      "Unique values in column \"State\": 49\n",
      "Unique values in column \"Country\": 1\n",
      "Unique values in column \"ZipCode\": 1293808\n",
      "Unique values in column \"LocalTimeZone\": 4\n",
      "Unique values in column \"WeatherStation_AirportCode\": 2058\n",
      "Unique values in column \"WeatherTimeStamp\": 1466130\n",
      "Unique values in column \"WindDir\": 24\n",
      "Unique values in column \"Weather_Event\": 26\n",
      "Unique values in column \"Weather_Conditions\": 173\n"
     ]
    }
   ],
   "source": [
    "get_nunique(dft_cat)"
   ]
  },
  {
   "cell_type": "code",
   "execution_count": 39,
   "metadata": {},
   "outputs": [
    {
     "name": "stdout",
     "output_type": "stream",
     "text": [
      "Unique values in column \"Type\": 7\n",
      "Unique values in column \"Severity\": 6\n",
      "Unique values in column \"StartTime(UTC)\": 2285322\n",
      "Unique values in column \"EndTime(UTC)\": 2237800\n",
      "Unique values in column \"TimeZone\": 4\n",
      "Unique values in column \"City\": 1716\n",
      "Unique values in column \"County\": 1100\n",
      "Unique values in column \"State\": 48\n"
     ]
    }
   ],
   "source": [
    "get_nunique(dfw_cat)"
   ]
  },
  {
   "cell_type": "markdown",
   "metadata": {},
   "source": [
    "### Lets check for null values"
   ]
  },
  {
   "cell_type": "code",
   "execution_count": 40,
   "metadata": {},
   "outputs": [],
   "source": [
    "def get_missing(df):\n",
    "    total = df.isnull().sum().sort_values(ascending=False)\n",
    "    percent = (df.isnull().sum()/df.isnull().count()).sort_values(ascending=False)\n",
    "\n",
    "    missing_data = pd.concat([total, percent], axis=1, keys=['Total', 'Percent'])\n",
    "    \n",
    "    return missing_data"
   ]
  },
  {
   "cell_type": "code",
   "execution_count": 41,
   "metadata": {},
   "outputs": [
    {
     "data": {
      "text/html": [
       "<div>\n",
       "<style scoped>\n",
       "    .dataframe tbody tr th:only-of-type {\n",
       "        vertical-align: middle;\n",
       "    }\n",
       "\n",
       "    .dataframe tbody tr th {\n",
       "        vertical-align: top;\n",
       "    }\n",
       "\n",
       "    .dataframe thead th {\n",
       "        text-align: right;\n",
       "    }\n",
       "</style>\n",
       "<table border=\"1\" class=\"dataframe\">\n",
       "  <thead>\n",
       "    <tr style=\"text-align: right;\">\n",
       "      <th></th>\n",
       "      <th>Total</th>\n",
       "      <th>Percent</th>\n",
       "    </tr>\n",
       "  </thead>\n",
       "  <tbody>\n",
       "    <tr>\n",
       "      <th>Weather_Event</th>\n",
       "      <td>31165872</td>\n",
       "      <td>9.357941e-01</td>\n",
       "    </tr>\n",
       "    <tr>\n",
       "      <th>Precipitation(in)</th>\n",
       "      <td>13753401</td>\n",
       "      <td>4.129630e-01</td>\n",
       "    </tr>\n",
       "    <tr>\n",
       "      <th>WindChill(F)</th>\n",
       "      <td>12655165</td>\n",
       "      <td>3.799871e-01</td>\n",
       "    </tr>\n",
       "    <tr>\n",
       "      <th>WindSpeed(mph)</th>\n",
       "      <td>3159455</td>\n",
       "      <td>9.486657e-02</td>\n",
       "    </tr>\n",
       "    <tr>\n",
       "      <th>Visibility(mi)</th>\n",
       "      <td>973275</td>\n",
       "      <td>2.922379e-02</td>\n",
       "    </tr>\n",
       "    <tr>\n",
       "      <th>Weather_Conditions</th>\n",
       "      <td>949187</td>\n",
       "      <td>2.850052e-02</td>\n",
       "    </tr>\n",
       "    <tr>\n",
       "      <th>WindDir</th>\n",
       "      <td>789678</td>\n",
       "      <td>2.371106e-02</td>\n",
       "    </tr>\n",
       "    <tr>\n",
       "      <th>Humidity(%)</th>\n",
       "      <td>766191</td>\n",
       "      <td>2.300584e-02</td>\n",
       "    </tr>\n",
       "    <tr>\n",
       "      <th>Temperature(F)</th>\n",
       "      <td>729816</td>\n",
       "      <td>2.191363e-02</td>\n",
       "    </tr>\n",
       "    <tr>\n",
       "      <th>Pressure(in)</th>\n",
       "      <td>682651</td>\n",
       "      <td>2.049745e-02</td>\n",
       "    </tr>\n",
       "    <tr>\n",
       "      <th>WeatherTimeStamp</th>\n",
       "      <td>534346</td>\n",
       "      <td>1.604440e-02</td>\n",
       "    </tr>\n",
       "    <tr>\n",
       "      <th>WeatherStation_AirportCode</th>\n",
       "      <td>55514</td>\n",
       "      <td>1.666877e-03</td>\n",
       "    </tr>\n",
       "    <tr>\n",
       "      <th>LocalTimeZone</th>\n",
       "      <td>30826</td>\n",
       "      <td>9.255890e-04</td>\n",
       "    </tr>\n",
       "    <tr>\n",
       "      <th>StartTime</th>\n",
       "      <td>30826</td>\n",
       "      <td>9.255890e-04</td>\n",
       "    </tr>\n",
       "    <tr>\n",
       "      <th>EndTime</th>\n",
       "      <td>30826</td>\n",
       "      <td>9.255890e-04</td>\n",
       "    </tr>\n",
       "    <tr>\n",
       "      <th>ZipCode</th>\n",
       "      <td>22762</td>\n",
       "      <td>6.834574e-04</td>\n",
       "    </tr>\n",
       "    <tr>\n",
       "      <th>City</th>\n",
       "      <td>2153</td>\n",
       "      <td>6.464650e-05</td>\n",
       "    </tr>\n",
       "    <tr>\n",
       "      <th>Street</th>\n",
       "      <td>1624</td>\n",
       "      <td>4.876262e-05</td>\n",
       "    </tr>\n",
       "    <tr>\n",
       "      <th>State</th>\n",
       "      <td>1</td>\n",
       "      <td>3.002624e-08</td>\n",
       "    </tr>\n",
       "    <tr>\n",
       "      <th>Start_Lat</th>\n",
       "      <td>0</td>\n",
       "      <td>0.000000e+00</td>\n",
       "    </tr>\n",
       "    <tr>\n",
       "      <th>Country</th>\n",
       "      <td>0</td>\n",
       "      <td>0.000000e+00</td>\n",
       "    </tr>\n",
       "    <tr>\n",
       "      <th>County</th>\n",
       "      <td>0</td>\n",
       "      <td>0.000000e+00</td>\n",
       "    </tr>\n",
       "    <tr>\n",
       "      <th>Congestion_Speed</th>\n",
       "      <td>0</td>\n",
       "      <td>0.000000e+00</td>\n",
       "    </tr>\n",
       "    <tr>\n",
       "      <th>DelayFromFreeFlowSpeed(mins)</th>\n",
       "      <td>0</td>\n",
       "      <td>0.000000e+00</td>\n",
       "    </tr>\n",
       "    <tr>\n",
       "      <th>DelayFromTypicalTraffic(mins)</th>\n",
       "      <td>0</td>\n",
       "      <td>0.000000e+00</td>\n",
       "    </tr>\n",
       "    <tr>\n",
       "      <th>Distance(mi)</th>\n",
       "      <td>0</td>\n",
       "      <td>0.000000e+00</td>\n",
       "    </tr>\n",
       "    <tr>\n",
       "      <th>Start_Lng</th>\n",
       "      <td>0</td>\n",
       "      <td>0.000000e+00</td>\n",
       "    </tr>\n",
       "    <tr>\n",
       "      <th>Severity</th>\n",
       "      <td>0</td>\n",
       "      <td>0.000000e+00</td>\n",
       "    </tr>\n",
       "  </tbody>\n",
       "</table>\n",
       "</div>"
      ],
      "text/plain": [
       "                                  Total       Percent\n",
       "Weather_Event                  31165872  9.357941e-01\n",
       "Precipitation(in)              13753401  4.129630e-01\n",
       "WindChill(F)                   12655165  3.799871e-01\n",
       "WindSpeed(mph)                  3159455  9.486657e-02\n",
       "Visibility(mi)                   973275  2.922379e-02\n",
       "Weather_Conditions               949187  2.850052e-02\n",
       "WindDir                          789678  2.371106e-02\n",
       "Humidity(%)                      766191  2.300584e-02\n",
       "Temperature(F)                   729816  2.191363e-02\n",
       "Pressure(in)                     682651  2.049745e-02\n",
       "WeatherTimeStamp                 534346  1.604440e-02\n",
       "WeatherStation_AirportCode        55514  1.666877e-03\n",
       "LocalTimeZone                     30826  9.255890e-04\n",
       "StartTime                         30826  9.255890e-04\n",
       "EndTime                           30826  9.255890e-04\n",
       "ZipCode                           22762  6.834574e-04\n",
       "City                               2153  6.464650e-05\n",
       "Street                             1624  4.876262e-05\n",
       "State                                 1  3.002624e-08\n",
       "Start_Lat                             0  0.000000e+00\n",
       "Country                               0  0.000000e+00\n",
       "County                                0  0.000000e+00\n",
       "Congestion_Speed                      0  0.000000e+00\n",
       "DelayFromFreeFlowSpeed(mins)          0  0.000000e+00\n",
       "DelayFromTypicalTraffic(mins)         0  0.000000e+00\n",
       "Distance(mi)                          0  0.000000e+00\n",
       "Start_Lng                             0  0.000000e+00\n",
       "Severity                              0  0.000000e+00"
      ]
     },
     "execution_count": 41,
     "metadata": {},
     "output_type": "execute_result"
    }
   ],
   "source": [
    "missing_dft = get_missing(dft)\n",
    "missing_dft"
   ]
  },
  {
   "cell_type": "code",
   "execution_count": 42,
   "metadata": {
    "scrolled": false
   },
   "outputs": [
    {
     "data": {
      "text/html": [
       "<div>\n",
       "<style scoped>\n",
       "    .dataframe tbody tr th:only-of-type {\n",
       "        vertical-align: middle;\n",
       "    }\n",
       "\n",
       "    .dataframe tbody tr th {\n",
       "        vertical-align: top;\n",
       "    }\n",
       "\n",
       "    .dataframe thead th {\n",
       "        text-align: right;\n",
       "    }\n",
       "</style>\n",
       "<table border=\"1\" class=\"dataframe\">\n",
       "  <thead>\n",
       "    <tr style=\"text-align: right;\">\n",
       "      <th></th>\n",
       "      <th>Total</th>\n",
       "      <th>Percent</th>\n",
       "    </tr>\n",
       "  </thead>\n",
       "  <tbody>\n",
       "    <tr>\n",
       "      <th>ZipCode</th>\n",
       "      <td>69199</td>\n",
       "      <td>0.008021</td>\n",
       "    </tr>\n",
       "    <tr>\n",
       "      <th>City</th>\n",
       "      <td>16912</td>\n",
       "      <td>0.001960</td>\n",
       "    </tr>\n",
       "    <tr>\n",
       "      <th>Type</th>\n",
       "      <td>0</td>\n",
       "      <td>0.000000</td>\n",
       "    </tr>\n",
       "    <tr>\n",
       "      <th>Severity</th>\n",
       "      <td>0</td>\n",
       "      <td>0.000000</td>\n",
       "    </tr>\n",
       "    <tr>\n",
       "      <th>StartTime(UTC)</th>\n",
       "      <td>0</td>\n",
       "      <td>0.000000</td>\n",
       "    </tr>\n",
       "    <tr>\n",
       "      <th>EndTime(UTC)</th>\n",
       "      <td>0</td>\n",
       "      <td>0.000000</td>\n",
       "    </tr>\n",
       "    <tr>\n",
       "      <th>Precipitation(in)</th>\n",
       "      <td>0</td>\n",
       "      <td>0.000000</td>\n",
       "    </tr>\n",
       "    <tr>\n",
       "      <th>TimeZone</th>\n",
       "      <td>0</td>\n",
       "      <td>0.000000</td>\n",
       "    </tr>\n",
       "    <tr>\n",
       "      <th>LocationLat</th>\n",
       "      <td>0</td>\n",
       "      <td>0.000000</td>\n",
       "    </tr>\n",
       "    <tr>\n",
       "      <th>LocationLng</th>\n",
       "      <td>0</td>\n",
       "      <td>0.000000</td>\n",
       "    </tr>\n",
       "    <tr>\n",
       "      <th>County</th>\n",
       "      <td>0</td>\n",
       "      <td>0.000000</td>\n",
       "    </tr>\n",
       "    <tr>\n",
       "      <th>State</th>\n",
       "      <td>0</td>\n",
       "      <td>0.000000</td>\n",
       "    </tr>\n",
       "  </tbody>\n",
       "</table>\n",
       "</div>"
      ],
      "text/plain": [
       "                   Total   Percent\n",
       "ZipCode            69199  0.008021\n",
       "City               16912  0.001960\n",
       "Type                   0  0.000000\n",
       "Severity               0  0.000000\n",
       "StartTime(UTC)         0  0.000000\n",
       "EndTime(UTC)           0  0.000000\n",
       "Precipitation(in)      0  0.000000\n",
       "TimeZone               0  0.000000\n",
       "LocationLat            0  0.000000\n",
       "LocationLng            0  0.000000\n",
       "County                 0  0.000000\n",
       "State                  0  0.000000"
      ]
     },
     "execution_count": 42,
     "metadata": {},
     "output_type": "execute_result"
    }
   ],
   "source": [
    "missing_dfw = get_missing(dfw)\n",
    "missing_dfw"
   ]
  },
  {
   "cell_type": "markdown",
   "metadata": {},
   "source": [
    "How many data points can we save by dropping different columns from the traffic data?"
   ]
  },
  {
   "cell_type": "code",
   "execution_count": 13,
   "metadata": {},
   "outputs": [],
   "source": [
    "df_drop1 = dft.drop('Weather_Event', axis=1)\n",
    "df_drop2 = df_drop1.drop('Precipitation(in)', axis=1)\n",
    "df_drop3 = df_drop2.drop('WindChill(F)', axis=1)\n",
    "df_drop4 = df_drop3.drop('WindSpeed(mph)', axis=1)"
   ]
  },
  {
   "cell_type": "code",
   "execution_count": 14,
   "metadata": {},
   "outputs": [],
   "source": [
    "df_drop1 = df_drop1.dropna()\n",
    "df_drop2 = df_drop2.dropna()\n",
    "df_drop3 = df_drop3.dropna()\n",
    "df_drop4 = df_drop4.dropna()"
   ]
  },
  {
   "cell_type": "code",
   "execution_count": 16,
   "metadata": {},
   "outputs": [
    {
     "name": "stdout",
     "output_type": "stream",
     "text": [
      "Preserves 53.87703214240342% of data points or 17943314 rows\n",
      "Preserves 61.212896908284755% of data points or 20386465 rows\n",
      "Preserves 89.10155142899548% of data points or 29674558 rows\n",
      "Preserves 95.65413658499938% of data points or 31856844 rows\n"
     ]
    }
   ],
   "source": [
    "def data_saved(no_null_df, original_df):\n",
    "    print(f'Preserves {len(no_null_df.axes[0]) / len(original_df.axes[0]) * 100}% of data points or {len(no_null_df.axes[0])} rows')\n",
    "    \n",
    "    return\n",
    "\n",
    "data_saved(df_drop1, dft)\n",
    "data_saved(df_drop2, dft)\n",
    "data_saved(df_drop3, dft)\n",
    "data_saved(df_drop4, dft)"
   ]
  },
  {
   "cell_type": "markdown",
   "metadata": {},
   "source": [
    "### Versus dropping all NaN rows\n",
    "One thing I notice after dropping missing rows is that Weather_Conditions could be a good standin for Weather_Event"
   ]
  },
  {
   "cell_type": "code",
   "execution_count": 17,
   "metadata": {},
   "outputs": [
    {
     "name": "stdout",
     "output_type": "stream",
     "text": [
      "Preserves 2.736699957864172% of data points or 911436 rows\n"
     ]
    }
   ],
   "source": [
    "dft_drop_rows = dft.dropna()\n",
    "\n",
    "data_saved(dft_drop_rows, dft)"
   ]
  },
  {
   "cell_type": "markdown",
   "metadata": {},
   "source": [
    "For the weather df, we can just drop the rows and see how many we have left"
   ]
  },
  {
   "cell_type": "code",
   "execution_count": 18,
   "metadata": {},
   "outputs": [
    {
     "name": "stdout",
     "output_type": "stream",
     "text": [
      "Preserves 99.19789558141878% of data points or 8557982 rows\n"
     ]
    }
   ],
   "source": [
    "dfw_drop_rows = dfw.dropna()\n",
    "\n",
    "data_saved(dfw_drop_rows, dfw)"
   ]
  },
  {
   "cell_type": "code",
   "execution_count": 19,
   "metadata": {},
   "outputs": [
    {
     "name": "stdout",
     "output_type": "stream",
     "text": [
      "Number of NaN values in dft: 0\n",
      "Number of NaN values in dfw: 0\n"
     ]
    }
   ],
   "source": [
    "print('Number of NaN values in dft:', df_drop2.isnull().sum().sum())\n",
    "print('Number of NaN values in dfw:', dfw_drop_rows.isnull().sum().sum())"
   ]
  },
  {
   "cell_type": "code",
   "execution_count": 20,
   "metadata": {},
   "outputs": [
    {
     "data": {
      "text/plain": [
       "Severity                          string\n",
       "Start_Lat                        float64\n",
       "Start_Lng                        float64\n",
       "StartTime                         object\n",
       "EndTime                           object\n",
       "Distance(mi)                     float64\n",
       "DelayFromTypicalTraffic(mins)    float64\n",
       "DelayFromFreeFlowSpeed(mins)     float64\n",
       "Congestion_Speed                  object\n",
       "Street                            object\n",
       "City                              object\n",
       "County                            object\n",
       "State                             object\n",
       "Country                           object\n",
       "ZipCode                           object\n",
       "LocalTimeZone                     object\n",
       "WeatherStation_AirportCode        object\n",
       "WeatherTimeStamp                  object\n",
       "Temperature(F)                   float64\n",
       "WindChill(F)                     float64\n",
       "Humidity(%)                      float64\n",
       "Pressure(in)                     float64\n",
       "Visibility(mi)                   float64\n",
       "WindDir                           object\n",
       "WindSpeed(mph)                   float64\n",
       "Weather_Conditions                object\n",
       "dtype: object"
      ]
     },
     "execution_count": 20,
     "metadata": {},
     "output_type": "execute_result"
    }
   ],
   "source": [
    "dft = df_drop2.copy()\n",
    "dft.dtypes"
   ]
  },
  {
   "cell_type": "code",
   "execution_count": 21,
   "metadata": {},
   "outputs": [
    {
     "data": {
      "text/plain": [
       "Type                  object\n",
       "Severity              object\n",
       "StartTime(UTC)        object\n",
       "EndTime(UTC)          object\n",
       "Precipitation(in)    float64\n",
       "TimeZone              object\n",
       "LocationLat          float64\n",
       "LocationLng          float64\n",
       "City                  object\n",
       "County                object\n",
       "State                 object\n",
       "ZipCode              float64\n",
       "dtype: object"
      ]
     },
     "execution_count": 21,
     "metadata": {},
     "output_type": "execute_result"
    }
   ],
   "source": [
    "dfw = dfw_drop_rows.copy()\n",
    "dfw.dtypes"
   ]
  },
  {
   "cell_type": "markdown",
   "metadata": {},
   "source": [
    "### 'StartTime', 'EndTime', and 'WeatherTimeStamp' should be converted to DateTime\n",
    "This could come in handy when we do our time series analysis"
   ]
  },
  {
   "cell_type": "code",
   "execution_count": 22,
   "metadata": {
    "scrolled": false
   },
   "outputs": [],
   "source": [
    "# ddft['StartTime'] = dd.to_datetime(ddft['StartTime'])\n",
    "dft['StartTime'] = pd.to_datetime(dft['StartTime'], utc=True)"
   ]
  },
  {
   "cell_type": "code",
   "execution_count": 23,
   "metadata": {},
   "outputs": [],
   "source": [
    "# ddft['EndTime'] = dd.to_datetime(ddft['EndTime'])\n",
    "dft['EndTime'] = pd.to_datetime(dft['EndTime'], utc=True)"
   ]
  },
  {
   "cell_type": "code",
   "execution_count": 24,
   "metadata": {},
   "outputs": [],
   "source": [
    "# ddft['WeatherTimeStamp'] = dd.to_datetime(ddft['WeatherTimeStamp'])\n",
    "dft['WeatherTimeStamp'] = pd.to_datetime(dft['WeatherTimeStamp'], utc=True)"
   ]
  },
  {
   "cell_type": "markdown",
   "metadata": {},
   "source": [
    "### Try the join with Dask and Pandas"
   ]
  },
  {
   "cell_type": "code",
   "execution_count": 25,
   "metadata": {},
   "outputs": [],
   "source": [
    "# dft.to_csv('traffic.csv')\n",
    "# dfw.to_csv('weather.csv')"
   ]
  },
  {
   "cell_type": "code",
   "execution_count": 26,
   "metadata": {},
   "outputs": [],
   "source": [
    "# ddft = dd.read_csv('traffic.csv')\n",
    "# ddfw = dd.read_csv('weather.csv')"
   ]
  },
  {
   "cell_type": "code",
   "execution_count": 36,
   "metadata": {},
   "outputs": [],
   "source": [
    "dft.to_parquet('traffic.parquet')\n",
    "dfw.to_parquet('weather.parquet')"
   ]
  },
  {
   "cell_type": "code",
   "execution_count": 37,
   "metadata": {},
   "outputs": [],
   "source": [
    "ddft = dd.read_parquet('traffic.parquet')\n",
    "ddfw = dd.read_parquet('weather.parquet')"
   ]
  },
  {
   "cell_type": "code",
   "execution_count": 40,
   "metadata": {
    "scrolled": false
   },
   "outputs": [
    {
     "data": {
      "text/plain": [
       "Index(['Severity', 'Start_Lat', 'Start_Lng', 'StartTime', 'EndTime',\n",
       "       'Distance(mi)', 'DelayFromTypicalTraffic(mins)',\n",
       "       'DelayFromFreeFlowSpeed(mins)', 'Congestion_Speed', 'Street', 'City',\n",
       "       'County', 'State', 'Country', 'ZipCode', 'LocalTimeZone',\n",
       "       'WeatherStation_AirportCode', 'WeatherTimeStamp', 'Temperature(F)',\n",
       "       'WindChill(F)', 'Humidity(%)', 'Pressure(in)', 'Visibility(mi)',\n",
       "       'WindDir', 'WindSpeed(mph)', 'Weather_Conditions'],\n",
       "      dtype='object')"
      ]
     },
     "execution_count": 40,
     "metadata": {},
     "output_type": "execute_result"
    }
   ],
   "source": [
    "ddft.columns"
   ]
  },
  {
   "cell_type": "code",
   "execution_count": 41,
   "metadata": {},
   "outputs": [
    {
     "data": {
      "text/plain": [
       "Index(['Type', 'Severity', 'StartTime(UTC)', 'EndTime(UTC)',\n",
       "       'Precipitation(in)', 'TimeZone', 'LocationLat', 'LocationLng', 'City',\n",
       "       'County', 'State', 'ZipCode'],\n",
       "      dtype='object')"
      ]
     },
     "execution_count": 41,
     "metadata": {},
     "output_type": "execute_result"
    }
   ],
   "source": [
    "ddfw.columns"
   ]
  },
  {
   "cell_type": "code",
   "execution_count": 42,
   "metadata": {},
   "outputs": [],
   "source": [
    "ddf = dd.merge(ddft, ddfw, how=\"inner\", on=[\"State\", \"City\"])"
   ]
  },
  {
   "cell_type": "code",
   "execution_count": null,
   "metadata": {},
   "outputs": [],
   "source": [
    "# ddf = ddf.compute()"
   ]
  },
  {
   "cell_type": "code",
   "execution_count": null,
   "metadata": {},
   "outputs": [],
   "source": [
    "# ddf.to_csv('joined_data.csv')"
   ]
  },
  {
   "cell_type": "code",
   "execution_count": 46,
   "metadata": {
    "scrolled": true
   },
   "outputs": [
    {
     "data": {
      "text/plain": [
       "Index(['Severity_x', 'Start_Lat', 'Start_Lng', 'StartTime', 'EndTime',\n",
       "       'Distance(mi)', 'DelayFromTypicalTraffic(mins)',\n",
       "       'DelayFromFreeFlowSpeed(mins)', 'Congestion_Speed', 'Street', 'City',\n",
       "       'County_x', 'State', 'Country', 'ZipCode_x', 'LocalTimeZone',\n",
       "       'WeatherStation_AirportCode', 'WeatherTimeStamp', 'Temperature(F)',\n",
       "       'WindChill(F)', 'Humidity(%)', 'Pressure(in)', 'Visibility(mi)',\n",
       "       'WindDir', 'WindSpeed(mph)', 'Weather_Conditions', 'Type', 'Severity_y',\n",
       "       'StartTime(UTC)', 'EndTime(UTC)', 'Precipitation(in)', 'TimeZone',\n",
       "       'LocationLat', 'LocationLng', 'County_y', 'ZipCode_y'],\n",
       "      dtype='object')"
      ]
     },
     "execution_count": 46,
     "metadata": {},
     "output_type": "execute_result"
    }
   ],
   "source": [
    "ddf.columns"
   ]
  },
  {
   "cell_type": "markdown",
   "metadata": {},
   "source": [
    "At this point i think I've done everything i can locally, ther est will have to be done in another way. If we wan to reduce the size of the data, maybe we can move back to working on it locally. \n",
    "\n",
    "# stop here"
   ]
  },
  {
   "cell_type": "markdown",
   "metadata": {},
   "source": [
    "### We might want access to the various date and time components separately\n",
    "Im running the rest of these tests of the dataframe df_drop_we, where Weather_Events was dropped before null rows were dropped. The same transformations can be done to any final, clean dataset we decide to use."
   ]
  },
  {
   "cell_type": "code",
   "execution_count": null,
   "metadata": {},
   "outputs": [],
   "source": [
    "def extract_datetime_info(datetime_obj):\n",
    "    \n",
    "    return datetime_obj.year, datetime_obj.month, datetime_obj.day, datetime_obj.time()\n",
    "\n",
    "df_drop_we[['Year', 'Month', 'Day', 'StartTOD']] = df_drop_we['StartTime'].apply(\n",
    "    lambda x: pd.Series(extract_datetime_info(x))\n",
    ")"
   ]
  },
  {
   "cell_type": "code",
   "execution_count": null,
   "metadata": {},
   "outputs": [],
   "source": [
    "df_drop_we['EndTOD'] = df_drop_we['EndTime'].apply(\n",
    "    lambda x: pd.Series((pd.to_datetime(x).time()))\n",
    ")"
   ]
  },
  {
   "cell_type": "code",
   "execution_count": null,
   "metadata": {},
   "outputs": [],
   "source": [
    "df_drop_we['WeatherTime'] = df_drop_we['WeatherTimeStamp'].apply(\n",
    "    lambda x: pd.Series((pd.to_datetime(x).time()))\n",
    ")"
   ]
  },
  {
   "cell_type": "code",
   "execution_count": null,
   "metadata": {},
   "outputs": [],
   "source": [
    "df_drop_we"
   ]
  },
  {
   "cell_type": "code",
   "execution_count": null,
   "metadata": {},
   "outputs": [],
   "source": []
  }
 ],
 "metadata": {
  "kernelspec": {
   "display_name": "Python 3 (ipykernel)",
   "language": "python",
   "name": "python3"
  },
  "language_info": {
   "codemirror_mode": {
    "name": "ipython",
    "version": 3
   },
   "file_extension": ".py",
   "mimetype": "text/x-python",
   "name": "python",
   "nbconvert_exporter": "python",
   "pygments_lexer": "ipython3",
   "version": "3.9.13"
  },
  "toc": {
   "base_numbering": 1,
   "nav_menu": {},
   "number_sections": false,
   "sideBar": false,
   "skip_h1_title": false,
   "title_cell": "Table of Contents",
   "title_sidebar": "Contents",
   "toc_cell": false,
   "toc_position": {},
   "toc_section_display": true,
   "toc_window_display": false
  }
 },
 "nbformat": 4,
 "nbformat_minor": 2
}
