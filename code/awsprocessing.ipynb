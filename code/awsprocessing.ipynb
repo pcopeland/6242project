{
 "cells": [
  {
   "cell_type": "markdown",
   "metadata": {},
   "source": [
    "## Uploading Data the S3##\n",
    "1. **Access S3 Service:**\n",
    "   - Navigate to the AWS Management Console.\n",
    "   - Under \"All services,\" find and click on \"S3\" listed under the Storage category.\n",
    "\n",
    "2. **Create a New Bucket:**\n",
    "   - In the S3 console, click on \"Create Bucket.\"\n",
    "   - Provide the necessary details such as bucket name and region. \n",
    "   - Select the region as \"US East (N. Virginia)\" to avoid data transfer charges.\n",
    "   - Click \"Create Bucket\" at the bottom of the screen.\n",
    "\n",
    "3. **Verify Bucket Creation:**\n",
    "   - A new bucket will now be visible in the S3 console. \n",
    "4. **Upload your data:**\n",
    "   - click on your new bucket it and it upload at the top to import your dataset in the        bucket\n",
    "\n",
    "## Creating an Amazon Athena Workgroup\n",
    "\n",
    "1. **Navigate to Amazon Athena:**\n",
    "   - Go to Amazon Athena in the AWS console.\n",
    "   - Select \"Workgroups\" from the left menu and click on \"Create workgroup.\"\n",
    "\n",
    "2. **Set Up Workgroup:**\n",
    "   - Ensure the region is set to \"N. Virginia.\" Change it if necessary.\n",
    "   - Fill out the configuration fields:\n",
    "     - Name your workgroup.\n",
    "     - Choose \"Apache Spark\" as the Analytics Engine.\n",
    "     - Select \"LabRole\" as the IAM service role from \"Additional Configurations.\"\n",
    "   - Complete the setup by clicking on \"Create workgroup.\"\n",
    " 3. **Create Notebook:**\n",
    "     - click on workgroup and hit \"create notebook\"\n",
    "     - or if you want to upload this notebook hit \"import File\"\n",
    " \n",
    "\n"
   ]
  },
  {
   "cell_type": "markdown",
   "metadata": {},
   "source": [
    "## Define the path to the S3 bucket and load traffic data"
   ]
  },
  {
   "cell_type": "code",
   "execution_count": 1,
   "metadata": {},
   "outputs": [
    {
     "name": "stdout",
     "output_type": "stream",
     "text": [
      "Calculation started (calculation_id=aec77665-dc0f-ad60-c857-668191e73607) in (session=14c7765f-544d-5d3e-4598-67c80445728a). Checking calculation status...\n"
     ]
    },
    {
     "data": {
      "application/vnd.jupyter.widget-view+json": {
       "model_id": "4bf65ef6aace434d82622807e5bc19ea",
       "version_major": 2,
       "version_minor": 0
      },
      "text/plain": [
       "Progress:   0%|          |elapsed time = 00:00s"
      ]
     },
     "metadata": {},
     "output_type": "display_data"
    },
    {
     "name": "stdout",
     "output_type": "stream",
     "text": [
      "Calculation completed.\n",
      "     ID Severity  ... Weather_Event Weather_Conditions\n",
      "0   C-1        0  ...          None               Fair\n",
      "1   C-2        0  ...          None               Fair\n",
      "2   C-3        1  ...          None               Fair\n",
      "3   C-4        0  ...          None      Mostly Cloudy\n",
      "4   C-5        1  ...          None      Mostly Cloudy\n",
      "5   C-6        0  ...          None      Mostly Cloudy\n",
      "6   C-7        0  ...          None               Fair\n",
      "7   C-8        1  ...          None               None\n",
      "8   C-9        0  ...          None               None\n",
      "9  C-10        0  ...          None               Fair\n",
      "\n",
      "[10 rows x 30 columns]\n",
      "\n"
     ]
    }
   ],
   "source": [
    "from pyspark.sql import SparkSession\n",
    "from pyspark.sql.functions import col, count, when\n",
    "from pyspark.sql.types import IntegerType, FloatType, StringType, TimestampType\n",
    "\n",
    "\n",
    "\n",
    "# The S3 path to the Athena query results\n",
    "s3_result_path = \"s3://plingareddy6/us_congestion_2016_2022.csv/\"\n",
    "dft = spark.read.option(\"header\", \"true\").csv(s3_result_path)\n",
    "pandas_df = dft.limit(10).toPandas()\n",
    "print(pandas_df)\n"
   ]
  },
  {
   "cell_type": "markdown",
   "metadata": {},
   "source": [
    "## Print the schema of the traffic data DataFrame to review the data types and identify which columns need type casting."
   ]
  },
  {
   "cell_type": "code",
   "execution_count": 2,
   "metadata": {},
   "outputs": [
    {
     "name": "stdout",
     "output_type": "stream",
     "text": [
      "Calculation started (calculation_id=16c77666-0241-1652-39ff-d6fc7474e0b6) in (session=14c7765f-544d-5d3e-4598-67c80445728a). Checking calculation status...\n"
     ]
    },
    {
     "data": {
      "application/vnd.jupyter.widget-view+json": {
       "model_id": "a99c1abf17be4979a72f7f88d161469a",
       "version_major": 2,
       "version_minor": 0
      },
      "text/plain": [
       "Progress:   0%|          |elapsed time = 00:00s"
      ]
     },
     "metadata": {},
     "output_type": "display_data"
    },
    {
     "name": "stdout",
     "output_type": "stream",
     "text": [
      "Calculation completed.\n",
      "root\n",
      " |-- ID: string (nullable = true)\n",
      " |-- Severity: string (nullable = true)\n",
      " |-- Start_Lat: string (nullable = true)\n",
      " |-- Start_Lng: string (nullable = true)\n",
      " |-- StartTime: string (nullable = true)\n",
      " |-- EndTime: string (nullable = true)\n",
      " |-- Distance(mi): string (nullable = true)\n",
      " |-- DelayFromTypicalTraffic(mins): string (nullable = true)\n",
      " |-- DelayFromFreeFlowSpeed(mins): string (nullable = true)\n",
      " |-- Congestion_Speed: string (nullable = true)\n",
      " |-- Description: string (nullable = true)\n",
      " |-- Street: string (nullable = true)\n",
      " |-- City: string (nullable = true)\n",
      " |-- County: string (nullable = true)\n",
      " |-- State: string (nullable = true)\n",
      " |-- Country: string (nullable = true)\n",
      " |-- ZipCode: string (nullable = true)\n",
      " |-- LocalTimeZone: string (nullable = true)\n",
      " |-- WeatherStation_AirportCode: string (nullable = true)\n",
      " |-- WeatherTimeStamp: string (nullable = true)\n",
      " |-- Temperature(F): string (nullable = true)\n",
      " |-- WindChill(F): string (nullable = true)\n",
      " |-- Humidity(%): string (nullable = true)\n",
      " |-- Pressure(in): string (nullable = true)\n",
      " |-- Visibility(mi): string (nullable = true)\n",
      " |-- WindDir: string (nullable = true)\n",
      " |-- WindSpeed(mph): string (nullable = true)\n",
      " |-- Precipitation(in): string (nullable = true)\n",
      " |-- Weather_Event: string (nullable = true)\n",
      " |-- Weather_Conditions: string (nullable = true)\n",
      "\n"
     ]
    }
   ],
   "source": [
    "# printing schema \n",
    "dft.printSchema()"
   ]
  },
  {
   "cell_type": "code",
   "execution_count": 3,
   "metadata": {},
   "outputs": [
    {
     "name": "stdout",
     "output_type": "stream",
     "text": [
      "Calculation started (calculation_id=e0c77666-075c-920a-39bf-7ede528fe02b) in (session=14c7765f-544d-5d3e-4598-67c80445728a). Checking calculation status...\n"
     ]
    },
    {
     "data": {
      "application/vnd.jupyter.widget-view+json": {
       "model_id": "0efaa7308a96496aaa70e0c2dfdd4216",
       "version_major": 2,
       "version_minor": 0
      },
      "text/plain": [
       "Progress:   0%|          |elapsed time = 00:00s"
      ]
     },
     "metadata": {},
     "output_type": "display_data"
    },
    {
     "name": "stdout",
     "output_type": "stream",
     "text": [
      "Calculation completed.\n"
     ]
    }
   ],
   "source": [
    "# casting columns for the traffic congestion DataFrame ('dft')\n",
    "dft = dft \\\n",
    "    .withColumn(\"ID\", col(\"ID\").cast(StringType())) \\\n",
    "    .withColumn(\"Severity\", col(\"Severity\").cast(StringType())) \\\n",
    "    .withColumn(\"Start_Lat\", col(\"Start_Lat\").cast(FloatType())) \\\n",
    "    .withColumn(\"Start_Lng\", col(\"Start_Lng\").cast(FloatType())) \\\n",
    "    .withColumn(\"StartTime\", col(\"StartTime\").cast(TimestampType())) \\\n",
    "    .withColumn(\"EndTime\", col(\"EndTime\").cast(TimestampType())) \\\n",
    "    .withColumn(\"Distance(mi)\", col(\"Distance(mi)\").cast(FloatType())) \\\n",
    "    .withColumn(\"DelayFromTypicalTraffic(mins)\", col(\"DelayFromTypicalTraffic(mins)\").cast(IntegerType())) \\\n",
    "    .withColumn(\"DelayFromFreeFlowSpeed(mins)\", col(\"DelayFromFreeFlowSpeed(mins)\").cast(IntegerType())) \\\n",
    "    .withColumn(\"Congestion_Speed\", col(\"Congestion_Speed\").cast(StringType())) \\\n",
    "    .withColumn(\"Description\", col(\"Description\").cast(StringType())) \\\n",
    "    .withColumn(\"Street\", col(\"Street\").cast(StringType())) \\\n",
    "    .withColumn(\"City\", col(\"City\").cast(StringType())) \\\n",
    "    .withColumn(\"County\", col(\"County\").cast(StringType())) \\\n",
    "    .withColumn(\"State\", col(\"State\").cast(StringType())) \\\n",
    "    .withColumn(\"Country\", col(\"Country\").cast(StringType())) \\\n",
    "    .withColumn(\"ZipCode\", col(\"ZipCode\").cast(StringType())) \\\n",
    "    .withColumn(\"LocalTimeZone\", col(\"LocalTimeZone\").cast(StringType())) \\\n",
    "    .withColumn(\"WeatherStation_AirportCode\", col(\"WeatherStation_AirportCode\").cast(StringType())) \\\n",
    "    .withColumn(\"WeatherTimeStamp\", col(\"WeatherTimeStamp\").cast(TimestampType())) \\\n",
    "    .withColumn(\"Temperature(F)\", col(\"Temperature(F)\").cast(FloatType())) \\\n",
    "    .withColumn(\"WindChill(F)\", col(\"WindChill(F)\").cast(FloatType())) \\\n",
    "    .withColumn(\"Humidity(%)\", col(\"Humidity(%)\").cast(IntegerType())) \\\n",
    "    .withColumn(\"Pressure(in)\", col(\"Pressure(in)\").cast(FloatType())) \\\n",
    "    .withColumn(\"Visibility(mi)\", col(\"Visibility(mi)\").cast(FloatType())) \\\n",
    "    .withColumn(\"WindDir\", col(\"WindDir\").cast(StringType())) \\\n",
    "    .withColumn(\"WindSpeed(mph)\", col(\"WindSpeed(mph)\").cast(FloatType())) \\\n",
    "    .withColumn(\"Precipitation(in)\", col(\"Precipitation(in)\").cast(FloatType())) \\\n",
    "    .withColumn(\"Weather_Event\", col(\"Weather_Event\").cast(StringType())) \\\n",
    "    .withColumn(\"Weather_Conditions\", col(\"Weather_Conditions\").cast(StringType()))\n"
   ]
  },
  {
   "cell_type": "code",
   "execution_count": 4,
   "metadata": {},
   "outputs": [
    {
     "name": "stdout",
     "output_type": "stream",
     "text": [
      "Calculation started (calculation_id=80c77666-0cd4-f190-2730-04e9d5611c1b) in (session=14c7765f-544d-5d3e-4598-67c80445728a). Checking calculation status...\n"
     ]
    },
    {
     "data": {
      "application/vnd.jupyter.widget-view+json": {
       "model_id": "acd5a2bbb7ed4f5bbb26657d0549d0f2",
       "version_major": 2,
       "version_minor": 0
      },
      "text/plain": [
       "Progress:   0%|          |elapsed time = 00:00s"
      ]
     },
     "metadata": {},
     "output_type": "display_data"
    },
    {
     "name": "stdout",
     "output_type": "stream",
     "text": [
      "Calculation completed.\n",
      "root\n",
      " |-- ID: string (nullable = true)\n",
      " |-- Severity: string (nullable = true)\n",
      " |-- Start_Lat: float (nullable = true)\n",
      " |-- Start_Lng: float (nullable = true)\n",
      " |-- StartTime: timestamp (nullable = true)\n",
      " |-- EndTime: timestamp (nullable = true)\n",
      " |-- Distance(mi): float (nullable = true)\n",
      " |-- DelayFromTypicalTraffic(mins): integer (nullable = true)\n",
      " |-- DelayFromFreeFlowSpeed(mins): integer (nullable = true)\n",
      " |-- Congestion_Speed: string (nullable = true)\n",
      " |-- Description: string (nullable = true)\n",
      " |-- Street: string (nullable = true)\n",
      " |-- City: string (nullable = true)\n",
      " |-- County: string (nullable = true)\n",
      " |-- State: string (nullable = true)\n",
      " |-- Country: string (nullable = true)\n",
      " |-- ZipCode: string (nullable = true)\n",
      " |-- LocalTimeZone: string (nullable = true)\n",
      " |-- WeatherStation_AirportCode: string (nullable = true)\n",
      " |-- WeatherTimeStamp: timestamp (nullable = true)\n",
      " |-- Temperature(F): float (nullable = true)\n",
      " |-- WindChill(F): float (nullable = true)\n",
      " |-- Humidity(%): integer (nullable = true)\n",
      " |-- Pressure(in): float (nullable = true)\n",
      " |-- Visibility(mi): float (nullable = true)\n",
      " |-- WindDir: string (nullable = true)\n",
      " |-- WindSpeed(mph): float (nullable = true)\n",
      " |-- Precipitation(in): float (nullable = true)\n",
      " |-- Weather_Event: string (nullable = true)\n",
      " |-- Weather_Conditions: string (nullable = true)\n",
      "\n"
     ]
    }
   ],
   "source": [
    "dft.printSchema()"
   ]
  },
  {
   "cell_type": "markdown",
   "metadata": {},
   "source": [
    "## Load Weather Data from S3 into DataFrame"
   ]
  },
  {
   "cell_type": "code",
   "execution_count": 5,
   "metadata": {},
   "outputs": [
    {
     "name": "stdout",
     "output_type": "stream",
     "text": [
      "Calculation started (calculation_id=26c77666-0e1f-802d-4fdd-231b6a53c138) in (session=14c7765f-544d-5d3e-4598-67c80445728a). Checking calculation status...\n"
     ]
    },
    {
     "data": {
      "application/vnd.jupyter.widget-view+json": {
       "model_id": "924d1ed477ec43029c1b0f221cd01e74",
       "version_major": 2,
       "version_minor": 0
      },
      "text/plain": [
       "Progress:   0%|          |elapsed time = 00:00s"
      ]
     },
     "metadata": {},
     "output_type": "display_data"
    },
    {
     "name": "stdout",
     "output_type": "stream",
     "text": [
      "Calculation completed.\n",
      "+-------+----+--------+-------------------+-------------------+-----------------+-----------+-----------+-----------+-----------+--------+--------+-----+-------+\n",
      "|EventId|Type|Severity|     StartTime(UTC)|       EndTime(UTC)|Precipitation(in)|   TimeZone|AirportCode|LocationLat|LocationLng|    City|  County|State|ZipCode|\n",
      "+-------+----+--------+-------------------+-------------------+-----------------+-----------+-----------+-----------+-----------+--------+--------+-----+-------+\n",
      "|    W-1|Snow|   Light|2016-01-06 23:14:00|2016-01-07 00:34:00|              0.0|US/Mountain|       K04V|    38.0972|  -106.1689|Saguache|Saguache|   CO|  81149|\n",
      "|    W-2|Snow|   Light|2016-01-07 04:14:00|2016-01-07 04:54:00|              0.0|US/Mountain|       K04V|    38.0972|  -106.1689|Saguache|Saguache|   CO|  81149|\n",
      "|    W-3|Snow|   Light|2016-01-07 05:54:00|2016-01-07 15:34:00|             0.03|US/Mountain|       K04V|    38.0972|  -106.1689|Saguache|Saguache|   CO|  81149|\n",
      "|    W-4|Snow|   Light|2016-01-08 05:34:00|2016-01-08 05:54:00|              0.0|US/Mountain|       K04V|    38.0972|  -106.1689|Saguache|Saguache|   CO|  81149|\n",
      "|    W-5|Snow|   Light|2016-01-08 13:54:00|2016-01-08 15:54:00|              0.0|US/Mountain|       K04V|    38.0972|  -106.1689|Saguache|Saguache|   CO|  81149|\n",
      "+-------+----+--------+-------------------+-------------------+-----------------+-----------+-----------+-----------+-----------+--------+--------+-----+-------+\n",
      "only showing top 5 rows\n",
      "\n"
     ]
    }
   ],
   "source": [
    "#The S3 path to the Athena query results\n",
    "s3_result_path = \"s3://plingareddy6/WeatherEvents_Jan2016-Dec2022.csv/\"\n",
    "dfw = spark.read.option(\"header\", \"true\").csv(s3_result_path)\n",
    "dfw.show(5)"
   ]
  },
  {
   "cell_type": "code",
   "execution_count": 6,
   "metadata": {},
   "outputs": [
    {
     "name": "stdout",
     "output_type": "stream",
     "text": [
      "Calculation started (calculation_id=78c77666-1f99-9db7-48ec-a1fbccab3a9f) in (session=14c7765f-544d-5d3e-4598-67c80445728a). Checking calculation status...\n"
     ]
    },
    {
     "data": {
      "application/vnd.jupyter.widget-view+json": {
       "model_id": "6f139120996441ba9bbd0b09bccf868c",
       "version_major": 2,
       "version_minor": 0
      },
      "text/plain": [
       "Progress:   0%|          |elapsed time = 00:00s"
      ]
     },
     "metadata": {},
     "output_type": "display_data"
    },
    {
     "name": "stdout",
     "output_type": "stream",
     "text": [
      "Calculation completed.\n",
      "root\n",
      " |-- EventId: string (nullable = true)\n",
      " |-- Type: string (nullable = true)\n",
      " |-- Severity: string (nullable = true)\n",
      " |-- StartTime(UTC): string (nullable = true)\n",
      " |-- EndTime(UTC): string (nullable = true)\n",
      " |-- Precipitation(in): string (nullable = true)\n",
      " |-- TimeZone: string (nullable = true)\n",
      " |-- AirportCode: string (nullable = true)\n",
      " |-- LocationLat: string (nullable = true)\n",
      " |-- LocationLng: string (nullable = true)\n",
      " |-- City: string (nullable = true)\n",
      " |-- County: string (nullable = true)\n",
      " |-- State: string (nullable = true)\n",
      " |-- ZipCode: string (nullable = true)\n",
      "\n"
     ]
    }
   ],
   "source": [
    "# Print the schema of the DataFrame\n",
    "dfw.printSchema()"
   ]
  },
  {
   "cell_type": "code",
   "execution_count": 7,
   "metadata": {},
   "outputs": [
    {
     "name": "stdout",
     "output_type": "stream",
     "text": [
      "Calculation started (calculation_id=e0c77666-20d6-27dd-a3eb-26f5c4a2ab30) in (session=14c7765f-544d-5d3e-4598-67c80445728a). Checking calculation status...\n"
     ]
    },
    {
     "data": {
      "application/vnd.jupyter.widget-view+json": {
       "model_id": "c3d819c104794564a0a35b6ff80dd86a",
       "version_major": 2,
       "version_minor": 0
      },
      "text/plain": [
       "Progress:   0%|          |elapsed time = 00:00s"
      ]
     },
     "metadata": {},
     "output_type": "display_data"
    },
    {
     "name": "stdout",
     "output_type": "stream",
     "text": [
      "Calculation completed.\n"
     ]
    }
   ],
   "source": [
    "dfw = dfw \\\n",
    "    .withColumn(\"EventId\", col(\"EventId\").cast(StringType())) \\\n",
    "    .withColumn(\"Type\", col(\"Type\").cast(StringType())) \\\n",
    "    .withColumn(\"Severity\", col(\"Severity\").cast(StringType())) \\\n",
    "    .withColumn(\"StartTime(UTC)\", col(\"StartTime(UTC)\").cast(TimestampType())) \\\n",
    "    .withColumn(\"EndTime(UTC)\", col(\"EndTime(UTC)\").cast(TimestampType())) \\\n",
    "    .withColumn(\"Precipitation(in)\", col(\"Precipitation(in)\").cast(FloatType())) \\\n",
    "    .withColumn(\"TimeZone\", col(\"TimeZone\").cast(StringType())) \\\n",
    "    .withColumn(\"AirportCode\", col(\"AirportCode\").cast(StringType())) \\\n",
    "    .withColumn(\"LocationLat\", col(\"LocationLat\").cast(FloatType())) \\\n",
    "    .withColumn(\"LocationLng\", col(\"LocationLng\").cast(FloatType())) \\\n",
    "    .withColumn(\"City\", col(\"City\").cast(StringType())) \\\n",
    "    .withColumn(\"County\", col(\"County\").cast(StringType())) \\\n",
    "    .withColumn(\"State\", col(\"State\").cast(StringType())) \\\n",
    "    .withColumn(\"ZipCode\", col(\"ZipCode\").cast(StringType()))"
   ]
  },
  {
   "cell_type": "code",
   "execution_count": 8,
   "metadata": {},
   "outputs": [
    {
     "name": "stdout",
     "output_type": "stream",
     "text": [
      "Calculation started (calculation_id=eec77666-25f4-7143-bff8-e7818cdc63a5) in (session=14c7765f-544d-5d3e-4598-67c80445728a). Checking calculation status...\n"
     ]
    },
    {
     "data": {
      "application/vnd.jupyter.widget-view+json": {
       "model_id": "b18946c458324741be4e5b94aa19568c",
       "version_major": 2,
       "version_minor": 0
      },
      "text/plain": [
       "Progress:   0%|          |elapsed time = 00:00s"
      ]
     },
     "metadata": {},
     "output_type": "display_data"
    },
    {
     "name": "stdout",
     "output_type": "stream",
     "text": [
      "Calculation completed.\n",
      "root\n",
      " |-- EventId: string (nullable = true)\n",
      " |-- Type: string (nullable = true)\n",
      " |-- Severity: string (nullable = true)\n",
      " |-- StartTime(UTC): timestamp (nullable = true)\n",
      " |-- EndTime(UTC): timestamp (nullable = true)\n",
      " |-- Precipitation(in): float (nullable = true)\n",
      " |-- TimeZone: string (nullable = true)\n",
      " |-- AirportCode: string (nullable = true)\n",
      " |-- LocationLat: float (nullable = true)\n",
      " |-- LocationLng: float (nullable = true)\n",
      " |-- City: string (nullable = true)\n",
      " |-- County: string (nullable = true)\n",
      " |-- State: string (nullable = true)\n",
      " |-- ZipCode: string (nullable = true)\n",
      "\n"
     ]
    }
   ],
   "source": [
    "dfw.printSchema()"
   ]
  },
  {
   "cell_type": "markdown",
   "metadata": {},
   "source": [
    "## Data Cleaning - Handling Missing Values and Dropping Columns"
   ]
  },
  {
   "cell_type": "code",
   "execution_count": 9,
   "metadata": {},
   "outputs": [
    {
     "name": "stdout",
     "output_type": "stream",
     "text": [
      "Calculation started (calculation_id=bec77666-2b44-ae52-5671-ea240725fa32) in (session=14c7765f-544d-5d3e-4598-67c80445728a). Checking calculation status...\n"
     ]
    },
    {
     "data": {
      "application/vnd.jupyter.widget-view+json": {
       "model_id": "166d4df812dd4bac9ee3169fb9e60526",
       "version_major": 2,
       "version_minor": 0
      },
      "text/plain": [
       "Progress:   0%|          |elapsed time = 00:00s"
      ]
     },
     "metadata": {},
     "output_type": "display_data"
    },
    {
     "name": "stdout",
     "output_type": "stream",
     "text": [
      "Calculation completed.\n"
     ]
    }
   ],
   "source": [
    "# Dropping columns from the 'dft' DataFrame\n",
    "dft = dft.drop('ID', 'Description','Street', 'Country', 'WeatherStation_AirportCode')\n",
    "\n",
    "# Dropping columns from the 'dfw' DataFrame\n",
    "dfw = dfw.drop('EventId', 'AirportCode','LocationLat', 'LocationLng')"
   ]
  },
  {
   "cell_type": "code",
   "execution_count": 10,
   "metadata": {},
   "outputs": [
    {
     "name": "stdout",
     "output_type": "stream",
     "text": [
      "Calculation started (calculation_id=d4c77666-3068-4dc2-4580-14e2796891fb) in (session=14c7765f-544d-5d3e-4598-67c80445728a). Checking calculation status...\n"
     ]
    },
    {
     "data": {
      "application/vnd.jupyter.widget-view+json": {
       "model_id": "d117d948e74a4e82913f8f322208b59d",
       "version_major": 2,
       "version_minor": 0
      },
      "text/plain": [
       "Progress:   0%|          |elapsed time = 00:00s"
      ]
     },
     "metadata": {},
     "output_type": "display_data"
    },
    {
     "name": "stdout",
     "output_type": "stream",
     "text": [
      "Calculation completed.\n"
     ]
    }
   ],
   "source": [
    "def get_missing(df):\n",
    "    # counting the number of NULLs\n",
    "    agg_expr = [count(when(col(c).isNull(), c)).alias(c) for c in df.columns]\n",
    "    missing_count_df = df.select(*agg_expr)\n",
    "    \n",
    "    # calculate percentages\n",
    "    total_rows = df.count()\n",
    "    percent_expr = [(col(c) / total_rows).alias(c) for c in missing_count_df.columns]\n",
    "    \n",
    "    # calculate missing percentages\n",
    "    missing_percent_df = missing_count_df.select(*percent_expr)\n",
    "    \n",
    "     # combine Total and Percent into one DataFrame\n",
    "    missing_count_pd = missing_count_df.toPandas().transpose()\n",
    "    missing_count_pd.columns = ['Total']\n",
    "    missing_percent_pd = (missing_percent_df.toPandas() * 100).transpose()  # Convert to percentage\n",
    "    missing_percent_pd.columns = ['Percent']\n",
    "    missing_data = missing_count_pd.join(missing_percent_pd)\n",
    "    missing_data = missing_data.sort_values(by='Total', ascending=False)\n",
    "    \n",
    "    return missing_data\n",
    "\n",
    "\n"
   ]
  },
  {
   "cell_type": "code",
   "execution_count": 11,
   "metadata": {},
   "outputs": [
    {
     "name": "stdout",
     "output_type": "stream",
     "text": [
      "Calculation started (calculation_id=d2c77666-35b0-be3b-5743-73097bc9f24f) in (session=14c7765f-544d-5d3e-4598-67c80445728a). Checking calculation status...\n"
     ]
    },
    {
     "data": {
      "application/vnd.jupyter.widget-view+json": {
       "model_id": "f41869971a704ccd96eb8a5736a76e94",
       "version_major": 2,
       "version_minor": 0
      },
      "text/plain": [
       "Progress:   0%|          |elapsed time = 00:00s"
      ]
     },
     "metadata": {},
     "output_type": "display_data"
    },
    {
     "name": "stdout",
     "output_type": "stream",
     "text": [
      "Calculation completed.\n",
      "                                  Total    Percent\n",
      "Weather_Event                  31165872  93.579407\n",
      "Precipitation(in)              13753412  41.296330\n",
      "WindChill(F)                   12655176  37.998740\n",
      "WindSpeed(mph)                  3159466   9.486690\n",
      "Visibility(mi)                   973286   2.922412\n",
      "Weather_Conditions               949198   2.850085\n",
      "WindDir                          789689   2.371139\n",
      "Humidity(%)                      766202   2.300617\n",
      "Temperature(F)                   729827   2.191396\n",
      "Pressure(in)                     682662   2.049778\n",
      "WeatherTimeStamp                 534357   1.604473\n",
      "LocalTimeZone                     30837   0.092592\n",
      "StartTime                         30826   0.092559\n",
      "EndTime                           30826   0.092559\n",
      "ZipCode                           22773   0.068379\n",
      "City                               2164   0.006498\n",
      "State                                12   0.000036\n",
      "County                               11   0.000033\n",
      "Start_Lat                             0   0.000000\n",
      "Congestion_Speed                      0   0.000000\n",
      "DelayFromFreeFlowSpeed(mins)          0   0.000000\n",
      "DelayFromTypicalTraffic(mins)         0   0.000000\n",
      "Distance(mi)                          0   0.000000\n",
      "Start_Lng                             0   0.000000\n",
      "Severity                              0   0.000000\n",
      "\n"
     ]
    }
   ],
   "source": [
    "missing_data_dft = get_missing(dft)\n",
    "print(missing_data_dft)"
   ]
  },
  {
   "cell_type": "code",
   "execution_count": 12,
   "metadata": {},
   "outputs": [
    {
     "name": "stdout",
     "output_type": "stream",
     "text": [
      "Calculation started (calculation_id=a2c77666-9fae-1a71-6323-23b946027638) in (session=14c7765f-544d-5d3e-4598-67c80445728a). Checking calculation status...\n"
     ]
    },
    {
     "data": {
      "application/vnd.jupyter.widget-view+json": {
       "model_id": "e7e109d120a44fe8b6474b1d00a2c563",
       "version_major": 2,
       "version_minor": 0
      },
      "text/plain": [
       "Progress:   0%|          |elapsed time = 00:00s"
      ]
     },
     "metadata": {},
     "output_type": "display_data"
    },
    {
     "name": "stdout",
     "output_type": "stream",
     "text": [
      "Calculation completed.\n",
      "                   Total   Percent\n",
      "ZipCode            69199  0.802104\n",
      "City               16912  0.196032\n",
      "Type                   0  0.000000\n",
      "Severity               0  0.000000\n",
      "StartTime(UTC)         0  0.000000\n",
      "EndTime(UTC)           0  0.000000\n",
      "Precipitation(in)      0  0.000000\n",
      "TimeZone               0  0.000000\n",
      "County                 0  0.000000\n",
      "State                  0  0.000000\n",
      "\n"
     ]
    }
   ],
   "source": [
    "missing_data_dfw = get_missing(dfw)\n",
    "print(missing_data_dfw)"
   ]
  },
  {
   "cell_type": "code",
   "execution_count": 13,
   "metadata": {},
   "outputs": [
    {
     "name": "stdout",
     "output_type": "stream",
     "text": [
      "Calculation started (calculation_id=c2c77666-ad0c-fac5-4ba9-7f3db75ca6c5) in (session=14c7765f-544d-5d3e-4598-67c80445728a). Checking calculation status...\n"
     ]
    },
    {
     "data": {
      "application/vnd.jupyter.widget-view+json": {
       "model_id": "035ce9d905b24491bcd4e8c703d9ed9f",
       "version_major": 2,
       "version_minor": 0
      },
      "text/plain": [
       "Progress:   0%|          |elapsed time = 00:00s"
      ]
     },
     "metadata": {},
     "output_type": "display_data"
    },
    {
     "name": "stdout",
     "output_type": "stream",
     "text": [
      "Calculation completed.\n",
      "Preserves 53.88139495563308% of data points or 17944767 rows\n",
      "Preserves 61.2174999314651% of data points or 20387998 rows\n",
      "Preserves 89.10618447841966% of data points or 29676101 rows\n",
      "Preserves 95.65877563967234% of data points or 31858389 rows\n",
      "\n"
     ]
    }
   ],
   "source": [
    "# dropping specified columns\n",
    "df_drop1 = dft.drop('Weather_Event')\n",
    "df_drop2 = df_drop1.drop('Precipitation(in)')\n",
    "df_drop3 = df_drop2.drop('WindChill(F)')\n",
    "df_drop4 = df_drop3.drop('WindSpeed(mph)')\n",
    "\n",
    "# dropping rows with any null values\n",
    "df_drop1 = df_drop1.dropna()\n",
    "df_drop2 = df_drop2.dropna()\n",
    "df_drop3 = df_drop3.dropna()\n",
    "df_drop4 = df_drop4.dropna()\n",
    "\n",
    "def data_saved(no_null_df, original_df):\n",
    "    original_count = original_df.count()\n",
    "    no_null_count = no_null_df.count()\n",
    "    percent_preserved = (no_null_count / original_count) * 100\n",
    "    print(f'Preserves {percent_preserved}% of data points or {no_null_count} rows')\n",
    "\n",
    "\n",
    "data_saved(df_drop1, dft)\n",
    "data_saved(df_drop2, dft)\n",
    "data_saved(df_drop3, dft)\n",
    "data_saved(df_drop4, dft)\n"
   ]
  },
  {
   "cell_type": "code",
   "execution_count": 14,
   "metadata": {},
   "outputs": [
    {
     "name": "stdout",
     "output_type": "stream",
     "text": [
      "Calculation started (calculation_id=a2c77667-53f6-2034-3d61-0faa2ca50b59) in (session=14c7765f-544d-5d3e-4598-67c80445728a). Checking calculation status...\n"
     ]
    },
    {
     "data": {
      "application/vnd.jupyter.widget-view+json": {
       "model_id": "31ca3c097bd74fb795e1e7562b495e91",
       "version_major": 2,
       "version_minor": 0
      },
      "text/plain": [
       "Progress:   0%|          |elapsed time = 00:00s"
      ]
     },
     "metadata": {},
     "output_type": "display_data"
    },
    {
     "name": "stdout",
     "output_type": "stream",
     "text": [
      "Calculation completed.\n",
      "Preserves 2.736708965737323% of data points or 911439 rows\n",
      "\n"
     ]
    }
   ],
   "source": [
    "dft_drop_rows = dft.dropna()\n",
    "data_saved(dft_drop_rows, dft)"
   ]
  },
  {
   "cell_type": "code",
   "execution_count": 15,
   "metadata": {},
   "outputs": [
    {
     "name": "stdout",
     "output_type": "stream",
     "text": [
      "Calculation started (calculation_id=36c77667-7e06-1e94-ab8f-0f2402559b5b) in (session=14c7765f-544d-5d3e-4598-67c80445728a). Checking calculation status...\n"
     ]
    },
    {
     "data": {
      "application/vnd.jupyter.widget-view+json": {
       "model_id": "76f2de1264d64ae3966ef2e2dfaf6cdf",
       "version_major": 2,
       "version_minor": 0
      },
      "text/plain": [
       "Progress:   0%|          |elapsed time = 00:00s"
      ]
     },
     "metadata": {},
     "output_type": "display_data"
    },
    {
     "name": "stdout",
     "output_type": "stream",
     "text": [
      "Calculation completed.\n",
      "Preserves 99.19789558141878% of data points or 8557982 rows\n",
      "\n"
     ]
    }
   ],
   "source": [
    "# dropping rows with any null values in the 'dfw' DataFrame\n",
    "dfw_drop_rows = dfw.dropna()\n",
    "data_saved(dfw_drop_rows, dfw)\n"
   ]
  },
  {
   "cell_type": "code",
   "execution_count": 16,
   "metadata": {},
   "outputs": [
    {
     "name": "stdout",
     "output_type": "stream",
     "text": [
      "Calculation started (calculation_id=0ec77667-8761-ab37-a636-35dacf1a7065) in (session=14c7765f-544d-5d3e-4598-67c80445728a). Checking calculation status...\n"
     ]
    },
    {
     "data": {
      "application/vnd.jupyter.widget-view+json": {
       "model_id": "d725ef2d2723427dbeac607ce73e0efa",
       "version_major": 2,
       "version_minor": 0
      },
      "text/plain": [
       "Progress:   0%|          |elapsed time = 00:00s"
      ]
     },
     "metadata": {},
     "output_type": "display_data"
    },
    {
     "name": "stdout",
     "output_type": "stream",
     "text": [
      "Calculation completed.\n",
      "Number of NaN values in dft after cleanup: 0\n",
      "Number of NaN values in dfw after cleanup: 0\n",
      "\n"
     ]
    }
   ],
   "source": [
    "def count_null_values_spark(df):\n",
    "    null_counts = [count(when(col(c).isNull(), c)).alias(c) for c in df.columns]\n",
    "    result = df.select(*null_counts).collect()[0]\n",
    "    total_nulls = sum(result.asDict().values())\n",
    "    return total_nulls\n",
    "print('Number of NaN values in dft after cleanup:', count_null_values_spark(df_drop4))\n",
    "print('Number of NaN values in dfw after cleanup:', count_null_values_spark(dfw_drop_rows))\n",
    "\n"
   ]
  },
  {
   "cell_type": "code",
   "execution_count": 17,
   "metadata": {},
   "outputs": [
    {
     "name": "stdout",
     "output_type": "stream",
     "text": [
      "Calculation started (calculation_id=54c77667-d9a2-c74e-b76e-b2857824b0dc) in (session=14c7765f-544d-5d3e-4598-67c80445728a). Checking calculation status...\n"
     ]
    },
    {
     "data": {
      "application/vnd.jupyter.widget-view+json": {
       "model_id": "a07f3cd360c641238ffd108999e4e855",
       "version_major": 2,
       "version_minor": 0
      },
      "text/plain": [
       "Progress:   0%|          |elapsed time = 00:00s"
      ]
     },
     "metadata": {},
     "output_type": "display_data"
    },
    {
     "name": "stdout",
     "output_type": "stream",
     "text": [
      "Calculation completed.\n",
      "root\n",
      " |-- Severity: string (nullable = true)\n",
      " |-- Start_Lat: float (nullable = true)\n",
      " |-- Start_Lng: float (nullable = true)\n",
      " |-- StartTime: timestamp (nullable = true)\n",
      " |-- EndTime: timestamp (nullable = true)\n",
      " |-- Distance(mi): float (nullable = true)\n",
      " |-- DelayFromTypicalTraffic(mins): integer (nullable = true)\n",
      " |-- DelayFromFreeFlowSpeed(mins): integer (nullable = true)\n",
      " |-- Congestion_Speed: string (nullable = true)\n",
      " |-- City: string (nullable = true)\n",
      " |-- County: string (nullable = true)\n",
      " |-- State: string (nullable = true)\n",
      " |-- ZipCode: string (nullable = true)\n",
      " |-- LocalTimeZone: string (nullable = true)\n",
      " |-- WeatherTimeStamp: timestamp (nullable = true)\n",
      " |-- Temperature(F): float (nullable = true)\n",
      " |-- Humidity(%): integer (nullable = true)\n",
      " |-- Pressure(in): float (nullable = true)\n",
      " |-- Visibility(mi): float (nullable = true)\n",
      " |-- WindDir: string (nullable = true)\n",
      " |-- Weather_Conditions: string (nullable = true)\n",
      "\n"
     ]
    }
   ],
   "source": [
    "dft = df_drop4\n",
    "dft.printSchema()"
   ]
  },
  {
   "cell_type": "code",
   "execution_count": 18,
   "metadata": {},
   "outputs": [
    {
     "name": "stdout",
     "output_type": "stream",
     "text": [
      "Calculation started (calculation_id=6cc77667-deab-3ce1-5cf0-9efa3265728b) in (session=14c7765f-544d-5d3e-4598-67c80445728a). Checking calculation status...\n"
     ]
    },
    {
     "data": {
      "application/vnd.jupyter.widget-view+json": {
       "model_id": "00cd0c067ce745c292ee69b7af2142a6",
       "version_major": 2,
       "version_minor": 0
      },
      "text/plain": [
       "Progress:   0%|          |elapsed time = 00:00s"
      ]
     },
     "metadata": {},
     "output_type": "display_data"
    },
    {
     "name": "stdout",
     "output_type": "stream",
     "text": [
      "Calculation completed.\n",
      "root\n",
      " |-- Type: string (nullable = true)\n",
      " |-- Severity: string (nullable = true)\n",
      " |-- StartTime(UTC): timestamp (nullable = true)\n",
      " |-- EndTime(UTC): timestamp (nullable = true)\n",
      " |-- Precipitation(in): float (nullable = true)\n",
      " |-- TimeZone: string (nullable = true)\n",
      " |-- City: string (nullable = true)\n",
      " |-- County: string (nullable = true)\n",
      " |-- State: string (nullable = true)\n",
      " |-- ZipCode: string (nullable = true)\n",
      "\n"
     ]
    }
   ],
   "source": [
    "dfw = dfw_drop_rows\n",
    "dfw.printSchema()"
   ]
  },
  {
   "cell_type": "markdown",
   "metadata": {},
   "source": [
    "## Formatting Time Column"
   ]
  },
  {
   "cell_type": "code",
   "execution_count": 19,
   "metadata": {},
   "outputs": [
    {
     "name": "stdout",
     "output_type": "stream",
     "text": [
      "Calculation started (calculation_id=92c77667-dff1-69ce-1cae-1ba0015f49b7) in (session=14c7765f-544d-5d3e-4598-67c80445728a). Checking calculation status...\n"
     ]
    },
    {
     "data": {
      "application/vnd.jupyter.widget-view+json": {
       "model_id": "6faf0ae0ad164ddea616a908706c0518",
       "version_major": 2,
       "version_minor": 0
      },
      "text/plain": [
       "Progress:   0%|          |elapsed time = 00:00s"
      ]
     },
     "metadata": {},
     "output_type": "display_data"
    },
    {
     "name": "stdout",
     "output_type": "stream",
     "text": [
      "Calculation completed.\n"
     ]
    }
   ],
   "source": [
    "from pyspark.sql.functions import to_date, date_format\n",
    "\n",
    "# For dfw DataFrame\n",
    "dfw = dfw.withColumn(\"StartDate(UTC)\", to_date(\"StartTime(UTC)\")) \\\n",
    "         .withColumn(\"EndDate(UTC)\", to_date(\"EndTime(UTC)\")) \\\n",
    "         .withColumn(\"StartTime(UTC)_Time\", date_format(\"StartTime(UTC)\", \"HH:mm:ss\")) \\\n",
    "         .withColumn(\"EndTime(UTC)_Time\", date_format(\"EndTime(UTC)\", \"HH:mm:ss\")) \\\n",
    "         .drop(\"StartTime(UTC)\", \"EndTime(UTC)\")\n",
    "\n",
    "# For dft DataFrame\n",
    "dft = dft.withColumn(\"StartDate\", to_date(\"StartTime\")) \\\n",
    "         .withColumn(\"EndDate\", to_date(\"EndTime\")) \\\n",
    "         .withColumn(\"StartTime_Time\", date_format(\"StartTime\", \"HH:mm:ss\")) \\\n",
    "         .withColumn(\"EndTime_Time\", date_format(\"EndTime\", \"HH:mm:ss\")) \\\n",
    "         .drop(\"StartTime\", \"EndTime\")\n"
   ]
  },
  {
   "cell_type": "code",
   "execution_count": 20,
   "metadata": {},
   "outputs": [
    {
     "name": "stdout",
     "output_type": "stream",
     "text": [
      "Calculation started (calculation_id=fec77667-e535-b437-262b-734d8e46b74e) in (session=14c7765f-544d-5d3e-4598-67c80445728a). Checking calculation status...\n"
     ]
    },
    {
     "data": {
      "application/vnd.jupyter.widget-view+json": {
       "model_id": "2907a5de399a496d8db9a9f3b40d850b",
       "version_major": 2,
       "version_minor": 0
      },
      "text/plain": [
       "Progress:   0%|          |elapsed time = 00:00s"
      ]
     },
     "metadata": {},
     "output_type": "display_data"
    },
    {
     "name": "stdout",
     "output_type": "stream",
     "text": [
      "Calculation completed.\n"
     ]
    }
   ],
   "source": [
    "# adding suffix to dfw columns\n",
    "dfw_suffixed = dfw.toDF(*(c + '_w' for c in dfw.columns))\n",
    "\n",
    "# adding suffix to dft columns\n",
    "dft_suffixed = dft.toDF(*(c + '_t' for c in dft.columns))"
   ]
  },
  {
   "cell_type": "markdown",
   "metadata": {},
   "source": [
    "## Joining the traffic and weather data "
   ]
  },
  {
   "cell_type": "code",
   "execution_count": 21,
   "metadata": {},
   "outputs": [
    {
     "name": "stdout",
     "output_type": "stream",
     "text": [
      "Calculation started (calculation_id=2ec77667-ea8a-8798-1d6f-2c630c1f3bfd) in (session=14c7765f-544d-5d3e-4598-67c80445728a). Checking calculation status...\n"
     ]
    },
    {
     "data": {
      "application/vnd.jupyter.widget-view+json": {
       "model_id": "3cc1127aa8074341ab03e3d7aa12159e",
       "version_major": 2,
       "version_minor": 0
      },
      "text/plain": [
       "Progress:   0%|          |elapsed time = 00:00s"
      ]
     },
     "metadata": {},
     "output_type": "display_data"
    },
    {
     "name": "stdout",
     "output_type": "stream",
     "text": [
      "Calculation completed.\n"
     ]
    }
   ],
   "source": [
    "# defining the join conditions\n",
    "cond = [\n",
    "    (dft_suffixed[\"County_t\"] == dfw_suffixed[\"County_w\"]),\n",
    "    (dft_suffixed[\"State_t\"] == dfw_suffixed[\"State_w\"]),\n",
    "    (dft_suffixed[\"City_t\"] == dfw_suffixed[\"City_w\"]),\n",
    "    (dft_suffixed[\"StartDate_t\"] == dfw_suffixed[\"StartDate(UTC)_w\"]),\n",
    "    (dft_suffixed[\"ZipCode_t\"] == dfw_suffixed[\"ZipCode_w\"])\n",
    "]\n",
    "\n",
    "# join\n",
    "dft_suffixed = dft_suffixed.join(dfw_suffixed, cond, 'inner')\n",
    "\n"
   ]
  },
  {
   "cell_type": "markdown",
   "metadata": {},
   "source": [
    "## Save Merged DataFrame to S3 (Commented Out)"
   ]
  },
  {
   "cell_type": "code",
   "execution_count": 1,
   "metadata": {},
   "outputs": [],
   "source": [
    "# Define the S3 path\n",
    "#s3_path = \"s3://plingareddy6/merged3.csv\"\n",
    "\n",
    "# Save the joined DataFrame to CSV in S3\n",
    "# Coalesce the DataFrame into 1 partition (use cautiously)\n",
    "#dft_suffixed.coalesce(1).write.mode(\"overwrite\").option(\"header\", \"true\").csv(s3_path)\n",
    "\n"
   ]
  },
  {
   "cell_type": "markdown",
   "metadata": {},
   "source": [
    "## Load merged dataset and check for missing values"
   ]
  },
  {
   "cell_type": "code",
   "execution_count": 22,
   "metadata": {},
   "outputs": [
    {
     "name": "stdout",
     "output_type": "stream",
     "text": [
      "Calculation started (calculation_id=c2c77667-efc4-2f26-8227-50e6e7da0158) in (session=14c7765f-544d-5d3e-4598-67c80445728a). Checking calculation status...\n"
     ]
    },
    {
     "data": {
      "application/vnd.jupyter.widget-view+json": {
       "model_id": "5c231fa3a6264638a15083603fe4152c",
       "version_major": 2,
       "version_minor": 0
      },
      "text/plain": [
       "Progress:   0%|          |elapsed time = 00:00s"
      ]
     },
     "metadata": {},
     "output_type": "display_data"
    },
    {
     "name": "stdout",
     "output_type": "stream",
     "text": [
      "Calculation completed.\n",
      "  Severity_t Start_Lat_t  ... StartTime(UTC)_Time_w EndTime(UTC)_Time_w\n",
      "0          1   40.114704  ...              00:04:00            00:29:00\n",
      "1          1   40.114704  ...              00:29:00            01:02:00\n",
      "2          1   40.114704  ...              01:02:00            01:19:00\n",
      "3          1   40.114704  ...              02:07:00            13:42:00\n",
      "4          1   40.114704  ...              13:51:00            13:57:00\n",
      "5          1   40.114704  ...              14:44:00            15:20:00\n",
      "6          1   37.633984  ...              01:54:00            02:54:00\n",
      "7          1   37.633984  ...              03:54:00            04:16:00\n",
      "8          1   37.633984  ...              05:33:00            05:41:00\n",
      "9          1   37.633984  ...              07:37:00            07:54:00\n",
      "\n",
      "[10 rows x 35 columns]\n",
      "\n"
     ]
    }
   ],
   "source": [
    "# The S3 path to the Athena query results\n",
    "s3_result_path = \"s3://plingareddy6/merged3.csv/\"\n",
    "dft = spark.read.option(\"header\", \"true\").csv(s3_result_path)\n",
    "pandas_df = dft.limit(10).toPandas()\n",
    "print(pandas_df)"
   ]
  },
  {
   "cell_type": "code",
   "execution_count": 23,
   "metadata": {},
   "outputs": [
    {
     "name": "stdout",
     "output_type": "stream",
     "text": [
      "Calculation started (calculation_id=b6c77668-0532-2aed-7248-b2fe711d8a57) in (session=14c7765f-544d-5d3e-4598-67c80445728a). Checking calculation status...\n"
     ]
    },
    {
     "data": {
      "application/vnd.jupyter.widget-view+json": {
       "model_id": "9a63d8cc8f9c4f0b8a08e14aa4577580",
       "version_major": 2,
       "version_minor": 0
      },
      "text/plain": [
       "Progress:   0%|          |elapsed time = 00:00s"
      ]
     },
     "metadata": {},
     "output_type": "display_data"
    },
    {
     "name": "stdout",
     "output_type": "stream",
     "text": [
      "Calculation completed.\n",
      "root\n",
      " |-- Severity_t: string (nullable = true)\n",
      " |-- Start_Lat_t: string (nullable = true)\n",
      " |-- Start_Lng_t: string (nullable = true)\n",
      " |-- Distance(mi)_t: string (nullable = true)\n",
      " |-- DelayFromTypicalTraffic(mins)_t: string (nullable = true)\n",
      " |-- DelayFromFreeFlowSpeed(mins)_t: string (nullable = true)\n",
      " |-- Congestion_Speed_t: string (nullable = true)\n",
      " |-- City_t: string (nullable = true)\n",
      " |-- County_t: string (nullable = true)\n",
      " |-- State_t: string (nullable = true)\n",
      " |-- ZipCode_t: string (nullable = true)\n",
      " |-- LocalTimeZone_t: string (nullable = true)\n",
      " |-- WeatherTimeStamp_t: string (nullable = true)\n",
      " |-- Temperature(F)_t: string (nullable = true)\n",
      " |-- Humidity(%)_t: string (nullable = true)\n",
      " |-- Pressure(in)_t: string (nullable = true)\n",
      " |-- Visibility(mi)_t: string (nullable = true)\n",
      " |-- WindDir_t: string (nullable = true)\n",
      " |-- Weather_Conditions_t: string (nullable = true)\n",
      " |-- StartDate_t: string (nullable = true)\n",
      " |-- EndDate_t: string (nullable = true)\n",
      " |-- StartTime_Time_t: string (nullable = true)\n",
      " |-- EndTime_Time_t: string (nullable = true)\n",
      " |-- Type_w: string (nullable = true)\n",
      " |-- Severity_w: string (nullable = true)\n",
      " |-- Precipitation(in)_w: string (nullable = true)\n",
      " |-- TimeZone_w: string (nullable = true)\n",
      " |-- City_w: string (nullable = true)\n",
      " |-- County_w: string (nullable = true)\n",
      " |-- State_w: string (nullable = true)\n",
      " |-- ZipCode_w: string (nullable = true)\n",
      " |-- StartDate(UTC)_w: string (nullable = true)\n",
      " |-- EndDate(UTC)_w: string (nullable = true)\n",
      " |-- StartTime(UTC)_Time_w: string (nullable = true)\n",
      " |-- EndTime(UTC)_Time_w: string (nullable = true)\n",
      "\n"
     ]
    }
   ],
   "source": [
    "dft.printSchema()"
   ]
  },
  {
   "cell_type": "code",
   "execution_count": 24,
   "metadata": {},
   "outputs": [
    {
     "name": "stdout",
     "output_type": "stream",
     "text": [
      "Calculation started (calculation_id=c8c77668-0a40-2250-caef-3611459858b6) in (session=14c7765f-544d-5d3e-4598-67c80445728a). Checking calculation status...\n"
     ]
    },
    {
     "data": {
      "application/vnd.jupyter.widget-view+json": {
       "model_id": "5e70e94ddb484ee8af0bc9662b679ae8",
       "version_major": 2,
       "version_minor": 0
      },
      "text/plain": [
       "Progress:   0%|          |elapsed time = 00:00s"
      ]
     },
     "metadata": {},
     "output_type": "display_data"
    },
    {
     "name": "stdout",
     "output_type": "stream",
     "text": [
      "Calculation c8c77668-0a40-2250-caef-3611459858b6 failed\n",
      "\n",
      "\n",
      "  File \"<stdin>\", line 13, in <module>\n",
      "NameError: name 'DateType' is not defined\n",
      "\n"
     ]
    }
   ],
   "source": [
    "dft = dft.withColumn(\"Start_Lat_t\", col(\"Start_Lat_t\").cast(FloatType())) \\\n",
    "         .withColumn(\"Start_Lng_t\", col(\"Start_Lng_t\").cast(FloatType())) \\\n",
    "         .withColumn(\"Distance(mi)_t\", col(\"Distance(mi)_t\").cast(FloatType())) \\\n",
    "         .withColumn(\"DelayFromTypicalTraffic(mins)_t\", col(\"DelayFromTypicalTraffic(mins)_t\").cast(IntegerType())) \\\n",
    "         .withColumn(\"DelayFromFreeFlowSpeed(mins)_t\", col(\"DelayFromFreeFlowSpeed(mins)_t\").cast(IntegerType())) \\\n",
    "         .withColumn(\"Temperature(F)_t\", col(\"Temperature(F)_t\").cast(FloatType())) \\\n",
    "         .withColumn(\"Humidity(%)_t\", col(\"Humidity(%)_t\").cast(IntegerType())) \\\n",
    "         .withColumn(\"Pressure(in)_t\", col(\"Pressure(in)_t\").cast(FloatType())) \\\n",
    "         .withColumn(\"Visibility(mi)_t\", col(\"Visibility(mi)_t\").cast(FloatType())) \\\n",
    "         .withColumn(\"Precipitation(in)_w\", col(\"Precipitation(in)_w\").cast(FloatType()))\n",
    "\n",
    "# Casting date fields to DateType\n",
    "dft = dft.withColumn(\"StartDate_t\", col(\"StartDate_t\").cast(DateType())) \\\n",
    "         .withColumn(\"EndDate_t\", col(\"EndDate_t\").cast(DateType())) \\\n",
    "         .withColumn(\"StartDate(UTC)_w\", col(\"StartDate(UTC)_w\").cast(DateType())) \\\n",
    "         .withColumn(\"EndDate(UTC)_w\", col(\"EndDate(UTC)_w\").cast(DateType()))\n",
    " \n",
    "\n",
    "# Check the schema to confirm the changes\n",
    "dft.printSchema()"
   ]
  },
  {
   "cell_type": "code",
   "execution_count": 25,
   "metadata": {},
   "outputs": [
    {
     "name": "stdout",
     "output_type": "stream",
     "text": [
      "Calculation started (calculation_id=72c77668-0f6c-5bf3-3749-14679ede6d41) in (session=14c7765f-544d-5d3e-4598-67c80445728a). Checking calculation status...\n"
     ]
    },
    {
     "data": {
      "application/vnd.jupyter.widget-view+json": {
       "model_id": "1ddce4b33c2e45c08f20e55d500bd54b",
       "version_major": 2,
       "version_minor": 0
      },
      "text/plain": [
       "Progress:   0%|          |elapsed time = 00:00s"
      ]
     },
     "metadata": {},
     "output_type": "display_data"
    },
    {
     "name": "stdout",
     "output_type": "stream",
     "text": [
      "Calculation completed.\n",
      "                                 Total  Percent\n",
      "Severity_t                           0      0.0\n",
      "TimeZone_w                           0      0.0\n",
      "EndDate_t                            0      0.0\n",
      "StartTime_Time_t                     0      0.0\n",
      "EndTime_Time_t                       0      0.0\n",
      "Type_w                               0      0.0\n",
      "Severity_w                           0      0.0\n",
      "Precipitation(in)_w                  0      0.0\n",
      "City_w                               0      0.0\n",
      "Weather_Conditions_t                 0      0.0\n",
      "County_w                             0      0.0\n",
      "State_w                              0      0.0\n",
      "ZipCode_w                            0      0.0\n",
      "StartDate(UTC)_w                     0      0.0\n",
      "EndDate(UTC)_w                       0      0.0\n",
      "StartTime(UTC)_Time_w                0      0.0\n",
      "StartDate_t                          0      0.0\n",
      "WindDir_t                            0      0.0\n",
      "Start_Lat_t                          0      0.0\n",
      "County_t                             0      0.0\n",
      "Start_Lng_t                          0      0.0\n",
      "Distance(mi)_t                       0      0.0\n",
      "DelayFromTypicalTraffic(mins)_t      0      0.0\n",
      "DelayFromFreeFlowSpeed(mins)_t       0      0.0\n",
      "Congestion_Speed_t                   0      0.0\n",
      "City_t                               0      0.0\n",
      "State_t                              0      0.0\n",
      "Visibility(mi)_t                     0      0.0\n",
      "ZipCode_t                            0      0.0\n",
      "LocalTimeZone_t                      0      0.0\n",
      "WeatherTimeStamp_t                   0      0.0\n",
      "Temperature(F)_t                     0      0.0\n",
      "Humidity(%)_t                        0      0.0\n",
      "Pressure(in)_t                       0      0.0\n",
      "EndTime(UTC)_Time_w                  0      0.0\n",
      "\n"
     ]
    }
   ],
   "source": [
    "missing_data_dft = get_missing(dft)\n",
    "print(missing_data_dft)"
   ]
  },
  {
   "cell_type": "markdown",
   "metadata": {},
   "source": [
    "## Format multipe time columns to aid with visulizations"
   ]
  },
  {
   "cell_type": "code",
   "execution_count": 26,
   "metadata": {},
   "outputs": [
    {
     "name": "stdout",
     "output_type": "stream",
     "text": [
      "Calculation started (calculation_id=90c77668-5153-21bb-8fb1-f071d667f42f) in (session=14c7765f-544d-5d3e-4598-67c80445728a). Checking calculation status...\n"
     ]
    },
    {
     "data": {
      "application/vnd.jupyter.widget-view+json": {
       "model_id": "6172648a189a4debadbebc20acb1a469",
       "version_major": 2,
       "version_minor": 0
      },
      "text/plain": [
       "Progress:   0%|          |elapsed time = 00:00s"
      ]
     },
     "metadata": {},
     "output_type": "display_data"
    },
    {
     "name": "stdout",
     "output_type": "stream",
     "text": [
      "Calculation completed.\n"
     ]
    }
   ],
   "source": [
    "from pyspark.sql.functions import concat, col, lit, to_timestamp\n",
    "\n",
    "# Combining date and time for start and end, and naming them as 'FormattedStartTime' and 'FormattedEndTime'\n",
    "# For the traffic data (t)\n",
    "dft = dft.withColumn(\"FormattedStartTime_t\",\n",
    "                     to_timestamp(concat(col(\"StartDate_t\"), lit(\" \"), col(\"StartTime_Time_t\")), \"yyyy-MM-dd HH:mm:ss\"))\n",
    "\n",
    "dft = dft.withColumn(\"FormattedEndTime_t\",\n",
    "                     to_timestamp(concat(col(\"EndDate_t\"), lit(\" \"), col(\"EndTime_Time_t\")), \"yyyy-MM-dd HH:mm:ss\"))\n",
    "\n",
    "# For the weather data (w), appending '_w' to distinguish them\n",
    "dft = dft.withColumn(\"FormattedStartTime_w\",\n",
    "                     to_timestamp(concat(col(\"StartDate(UTC)_w\"), lit(\" \"), col(\"StartTime(UTC)_Time_w\")), \"yyyy-MM-dd HH:mm:ss\"))\n",
    "\n",
    "dft = dft.withColumn(\"FormattedEndTime_w\",\n",
    "                     to_timestamp(concat(col(\"EndDate(UTC)_w\"), lit(\" \"), col(\"EndTime(UTC)_Time_w\")), \"yyyy-MM-dd HH:mm:ss\"))\n"
   ]
  },
  {
   "cell_type": "markdown",
   "metadata": {},
   "source": [
    "## Save Merged DataFrame to S3 (Commented Out)"
   ]
  },
  {
   "cell_type": "code",
   "execution_count": 2,
   "metadata": {},
   "outputs": [],
   "source": [
    "# Define the S3 path\n",
    "#s3_path = \"s3://plingareddy6/merged4.csv\"\n",
    "\n",
    "# Save the joined DataFrame to CSV in S3\n",
    "# Coalesce the DataFrame into 1 partition (use cautiously)\n",
    "#dft.coalesce(1).write.mode(\"overwrite\").option(\"header\", \"true\").csv(s3_path)\n",
    "\n"
   ]
  }
 ],
 "metadata": {
  "kernelspec": {
   "display_name": "Athena PySpark",
   "language": "python",
   "name": "kepler_python_kernel"
  },
  "language_info": {
   "codemirror_mode": {
    "name": "python",
    "version": 3
   },
   "file_extension": ".py",
   "mimetype": "text/x-python",
   "name": "Python_Session",
   "pygments_lexer": "python3"
  }
 },
 "nbformat": 4,
 "nbformat_minor": 1
}
